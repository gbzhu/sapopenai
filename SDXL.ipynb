{
 "cells": [
  {
   "cell_type": "code",
   "execution_count": null,
   "id": "ca0f6b4b-9f9b-4ce8-9c23-c3a36a10bd26",
   "metadata": {},
   "outputs": [],
   "source": [
    "import os\n",
    "import io\n",
    "import warnings\n",
    "from PIL import Image\n",
    "from stability_sdk import client\n",
    "import stability_sdk.interfaces.gooseai.generation.generation_pb2 as generation\n",
    "\n",
    "# Our Host URL should not be prepended with \"https\" nor should it have a trailing slash.\n",
    "os.environ['STABILITY_HOST'] = 'grpc.stability.ai:443'\n",
    "\n",
    "# Sign up for an account at the following link to get an API Key.\n",
    "# https://platform.stability.ai/\n",
    "\n",
    "# Click on the following link once you have created an account to be taken to your API Key.\n",
    "# https://platform.stability.ai/account/keys\n",
    "\n",
    "# Paste your API Key below.\n",
    "\n",
    "os.environ['STABILITY_KEY'] = '' # get the stable diffusion key from \"config.ini\""
   ]
  },
  {
   "cell_type": "code",
   "execution_count": null,
   "id": "b26f5591-ebd0-4237-9a1f-7d7c5dc25f5d",
   "metadata": {},
   "outputs": [],
   "source": [
    "# Set up connection to the API.\n",
    "stability_api = client.StabilityInference(\n",
    "    key=os.environ['STABILITY_KEY'], # API Key reference.\n",
    "    verbose=True, # Print debug messages.\n",
    "    engine=\"stable-diffusion-xl-1024-v1-0\", # Set the engine to use for generation.\n",
    "    # Check out the following link for a list of available engines: https://platform.stability.ai/docs/features/api-parameters#engine\n",
    ")"
   ]
  },
  {
   "cell_type": "code",
   "execution_count": null,
   "id": "8c441412-13dd-4357-be00-83000e614b82",
   "metadata": {},
   "outputs": [],
   "source": [
    "# Set up our initial generation parameters.\n",
    "answers = stability_api.generate(\n",
    "    prompt=\"expansive landscape rolling greens with gargantuan yggdrasil, intricate world-spanning roots towering under a blue alien sky, masterful, ghibli\",\n",
    "    seed=4253978046, # If a seed is provided, the resulting generated image will be deterministic.\n",
    "                     # What this means is that as long as all generation parameters remain the same, you can always recall the same image simply by generating it again.\n",
    "                     # Note: This isn't quite the case for Clip Guided generations, which we'll tackle in a future example notebook.\n",
    "    steps=50, # Amount of inference steps performed on image generation. Defaults to 30. \n",
    "    cfg_scale=8.0, # Influences how strongly your generation is guided to match your prompt.\n",
    "                   # Setting this value higher increases the strength in which it tries to match your prompt.\n",
    "                   # Defaults to 7.0 if not specified.\n",
    "    width=1024, # Generation width, defaults to 512 if not included.\n",
    "    height=1024, # Generation height, defaults to 512 if not included.\n",
    "    samples=1, # Number of images to generate, defaults to 1 if not included.\n",
    "    sampler=generation.SAMPLER_K_DPMPP_2M # Choose which sampler we want to denoise our generation with.\n",
    "                                                 # Defaults to k_dpmpp_2m if not specified. Clip Guidance only supports ancestral samplers.\n",
    "                                                 # (Available Samplers: ddim, plms, k_euler, k_euler_ancestral, k_heun, k_dpm_2, k_dpm_2_ancestral, k_dpmpp_2s_ancestral, k_lms, k_dpmpp_2m, k_dpmpp_sde)\n",
    ")\n",
    "\n",
    "# Set up our warning to print to the console if the adult content classifier is tripped.\n",
    "# If adult content classifier is not tripped, save generated images.\n",
    "for resp in answers:\n",
    "    for artifact in resp.artifacts:\n",
    "        if artifact.finish_reason == generation.FILTER:\n",
    "            warnings.warn(\n",
    "                \"Your request activated the API's safety filters and could not be processed.\"\n",
    "                \"Please modify the prompt and try again.\")\n",
    "        if artifact.type == generation.ARTIFACT_IMAGE:\n",
    "            img = Image.open(io.BytesIO(artifact.binary))\n",
    "            img.save(str(artifact.seed)+ \".png\") # Save our generated images with their seed number as the filename."
   ]
  }
 ],
 "metadata": {
  "kernelspec": {
   "display_name": "Python 3 (ipykernel)",
   "language": "python",
   "name": "python3"
  },
  "language_info": {
   "codemirror_mode": {
    "name": "ipython",
    "version": 3
   },
   "file_extension": ".py",
   "mimetype": "text/x-python",
   "name": "python",
   "nbconvert_exporter": "python",
   "pygments_lexer": "ipython3",
   "version": "3.11.4"
  }
 },
 "nbformat": 4,
 "nbformat_minor": 5
}
