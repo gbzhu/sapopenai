{
 "cells": [
  {
   "cell_type": "code",
   "execution_count": 1,
   "id": "a2ab8782-6288-4c0f-88ee-317c324265ca",
   "metadata": {
    "execution": {
     "iopub.execute_input": "2023-08-31T06:45:33.360987Z",
     "iopub.status.busy": "2023-08-31T06:45:33.360364Z",
     "iopub.status.idle": "2023-08-31T06:45:34.190576Z",
     "shell.execute_reply": "2023-08-31T06:45:34.189950Z",
     "shell.execute_reply.started": "2023-08-31T06:45:33.360895Z"
    }
   },
   "outputs": [],
   "source": [
    "import configparser\n",
    "import os\n",
    "\n",
    "import openai\n",
    "import requests\n",
    "from PIL import Image\n",
    "\n",
    "config = configparser.ConfigParser()\n",
    "config.read(\"config.ini\")\n",
    "\n",
    "\n",
    "engine = \"\"\n",
    "\n",
    "\n",
    "def config_model(section=\"inm.gpt4\"):\n",
    "    openai.api_key = config[section][\"api_key\"]\n",
    "    openai.api_type = config[section][\"api_type\"]\n",
    "    openai.api_base = config[section][\"api_base\"]\n",
    "    openai.api_version = config[section][\"api_version\"]\n",
    "    global engine\n",
    "    engine = config[section][\"engine\"]\n",
    "\n",
    "\n",
    "config_model()  # default gpt4"
   ]
  },
  {
   "cell_type": "code",
   "execution_count": 24,
   "id": "f099eebd-7dcb-40d5-9cb0-81f59bab53e4",
   "metadata": {
    "execution": {
     "iopub.execute_input": "2023-08-21T06:21:22.444951Z",
     "iopub.status.busy": "2023-08-21T06:21:22.444391Z",
     "iopub.status.idle": "2023-08-21T06:21:22.458790Z",
     "shell.execute_reply": "2023-08-21T06:21:22.457915Z",
     "shell.execute_reply.started": "2023-08-21T06:21:22.444927Z"
    }
   },
   "outputs": [],
   "source": [
    "messages = [\n",
    "    {\n",
    "        \"role\": \"system\",\n",
    "        \"content\": \"You're a professional engineer. The user will provide some basic information, and you need to generate some ideas based on that information and need to format the answer as a JSON object. Here's an example of your output format:\"\n",
    "        + \"{\"\n",
    "        + \"'idea1:'{\"\n",
    "        + '\"name:\",'\n",
    "        + '\"description:\"\"},'\n",
    "        + \"'idea2:'{\"\n",
    "        + '\"name:\"\",'\n",
    "        + '\"description:\"\"}'\n",
    "        + \"}\",\n",
    "    },\n",
    "    {\n",
    "        \"role\": \"user\",\n",
    "        \"content\": \"We want to hear your ideas on how we can make our eScooters even better. We're looking for innovative, creative, and practical ideas that can improve the user experience, safety, and performance of our eScooters. Whether you're a daily rider, a casual user, or just someone who has ideas about how to improve products, we want to hear from you!\"\n",
    "        + \"Here are some areas where we would love to receive your ideas:\"\n",
    "        + \"1. Safety features: We are committed to providing the safest eScooter experience for our users. What safety features do you think we should add to our eScooters to make them even safer?\"\n",
    "        + \"2. User experience: We want to make our eScooters as user-friendly as possible. What features or functions do you think we should add to our eScooters to improve the user experience?\"\n",
    "        + \"3. Performance: We want to make our eScooters faster, more powerful, and more efficient. What technical improvements do you think we should make to our eScooters to improve their performance?\"\n",
    "        + \"4. Sustainability: We are committed to making our products as environmentally friendly as possible. What ideas do you have for making our eScooters more sustainable, such as using renewable energy or reducing waste?\"\n",
    "        + \"5. Accessibility: We want to make our eScooters accessible to everyone. What features or modifications do you think we should make to our eScooters to make them more accessible to people with disabilities or other special needs?\"\n",
    "        + \"We value your input and appreciate your help in making our eScooters the best they can be. Thank you for your participation!\"\n",
    "        + \"Please give me some Ideas based on the above!\",\n",
    "    },\n",
    "]"
   ]
  },
  {
   "cell_type": "code",
   "execution_count": 2,
   "id": "7683a386-ffa7-4fe4-beaf-9fc6b29b0872",
   "metadata": {
    "execution": {
     "iopub.execute_input": "2023-08-23T09:48:56.495509Z",
     "iopub.status.busy": "2023-08-23T09:48:56.495188Z",
     "iopub.status.idle": "2023-08-23T09:48:56.499772Z",
     "shell.execute_reply": "2023-08-23T09:48:56.498968Z",
     "shell.execute_reply.started": "2023-08-23T09:48:56.495481Z"
    }
   },
   "outputs": [],
   "source": [
    "messages = [\n",
    "    {\n",
    "        \"role\": \"system\",\n",
    "        \"content\": \"You're a professional engineer. The user will provide some basic information, and you need to generate some ideas based on that information and need to format the answer as a JSON object. if you have no idea about the answer, you can say 'I have no idea about this, please provide more information and try again.', Here's an example of your output format:\"\n",
    "        + \"{\"\n",
    "        + \"'idea1:'{\"\n",
    "        + '\"name:\",'\n",
    "        + '\"description:\"\"},'\n",
    "        + \"'idea2:'{\"\n",
    "        + '\"name:\"\",'\n",
    "        + '\"description:\"\"}'\n",
    "        + \"}\",\n",
    "    },\n",
    "    {\n",
    "        \"role\": \"user\",\n",
    "        \"content\": \"When do I need to file my taxes by?\",\n",
    "    },\n",
    "]"
   ]
  },
  {
   "cell_type": "code",
   "execution_count": null,
   "id": "71b9ce0a-fb2e-427f-9566-db290ea2b6b7",
   "metadata": {},
   "outputs": [],
   "source": [
    "messages = [\n",
    "    {\n",
    "        \"role\": \"system\",\n",
    "        \"content\": 'You\\'re a professional engineer. The user will provide some basic information, and you need to generate some ideas based on that information and need to format the answer as a JSON object. if you have no idea about the answer, you can say \\'I have no idea about this, please provide more information and try again.\\', Here\\'s an example of your output format:\\n{\\n   \"idea1\":{\\n        \"name\":\"\",\\n        \"description\":\"\"\\n   },\\n   \"idea2\":{\\n        \"name\":\"\",\\n        \"description\":\"\"\\n   }\\n}',\n",
    "    }\n",
    "]"
   ]
  },
  {
   "cell_type": "code",
   "execution_count": 2,
   "id": "c256de99-ae57-4bc6-855d-580059627669",
   "metadata": {
    "execution": {
     "iopub.execute_input": "2023-08-23T09:59:56.274998Z",
     "iopub.status.busy": "2023-08-23T09:59:56.274181Z",
     "iopub.status.idle": "2023-08-23T09:59:56.280857Z",
     "shell.execute_reply": "2023-08-23T09:59:56.279746Z",
     "shell.execute_reply.started": "2023-08-23T09:59:56.274969Z"
    }
   },
   "outputs": [],
   "source": [
    "messages = [\n",
    "    {\n",
    "        \"role\": \"system\",\n",
    "        \"content\": 'You\\'re a professional engineer. The user will provide some basic information, and you need to generate some ideas based on that information and need to format the answer as a JSON object. if you have no idea about the answer, you can say \\'I have no idea about this, please provide more information and try again.\\', Here\\'s an example of your output format:\\n{\\n   \"idea1\":{\\n        \"name\":\"\",\\n        \"description\":\"\"\\n   },\\n   \"idea2\":{\\n        \"name\":\"\",\\n        \"description\":\"\"\\n   }\\n}',\n",
    "    },\n",
    "    {\n",
    "        \"role\": \"user\",\n",
    "        \"content\": \"In this campaign ideas for new soda flavors are collected.\",\n",
    "    },\n",
    "]"
   ]
  },
  {
   "cell_type": "code",
   "execution_count": 3,
   "id": "04830e1c-6955-4b34-bf6c-3eddcc7edd94",
   "metadata": {
    "execution": {
     "iopub.execute_input": "2023-08-23T09:59:57.139576Z",
     "iopub.status.busy": "2023-08-23T09:59:57.139297Z",
     "iopub.status.idle": "2023-08-23T10:00:05.084463Z",
     "shell.execute_reply": "2023-08-23T10:00:05.083661Z",
     "shell.execute_reply.started": "2023-08-23T09:59:57.139554Z"
    },
    "scrolled": true
   },
   "outputs": [
    {
     "name": "stdout",
     "output_type": "stream",
     "text": [
      "{\n",
      "  \"id\": \"chatcmpl-7qewYdxATAyQ4udqfe5vDto98x7iW\",\n",
      "  \"object\": \"chat.completion\",\n",
      "  \"created\": 1692784798,\n",
      "  \"model\": \"gpt-35-turbo-16k\",\n",
      "  \"prompt_annotations\": [\n",
      "    {\n",
      "      \"prompt_index\": 0,\n",
      "      \"content_filter_results\": {\n",
      "        \"hate\": {\n",
      "          \"filtered\": false,\n",
      "          \"severity\": \"safe\"\n",
      "        },\n",
      "        \"self_harm\": {\n",
      "          \"filtered\": false,\n",
      "          \"severity\": \"safe\"\n",
      "        },\n",
      "        \"sexual\": {\n",
      "          \"filtered\": false,\n",
      "          \"severity\": \"safe\"\n",
      "        },\n",
      "        \"violence\": {\n",
      "          \"filtered\": false,\n",
      "          \"severity\": \"safe\"\n",
      "        }\n",
      "      }\n",
      "    }\n",
      "  ],\n",
      "  \"choices\": [\n",
      "    {\n",
      "      \"index\": 0,\n",
      "      \"finish_reason\": \"stop\",\n",
      "      \"message\": {\n",
      "        \"role\": \"assistant\",\n",
      "        \"content\": \"{\\n   \\\"idea1\\\":{\\n        \\\"name\\\":\\\"Tropical Fusion\\\",\\n        \\\"description\\\":\\\"A refreshing blend of tropical fruits like pineapple, mango, and passion fruit.\\\"\\n   },\\n   \\\"idea2\\\":{\\n        \\\"name\\\":\\\"Sparkling Lemonade\\\",\\n        \\\"description\\\":\\\"A zesty and tangy lemonade soda with a hint of fizz.\\\"\\n   },\\n   \\\"idea3\\\":{\\n        \\\"name\\\":\\\"Berry Burst\\\",\\n        \\\"description\\\":\\\"A medley of mixed berries like strawberry, blueberry, and raspberry in a fizzy soda.\\\"\\n   },\\n   \\\"idea4\\\":{\\n        \\\"name\\\":\\\"Creamy Caramel\\\",\\n        \\\"description\\\":\\\"A rich and creamy caramel-flavored soda, reminiscent of a caramel latte.\\\"\\n   },\\n   \\\"idea5\\\":{\\n        \\\"name\\\":\\\"Sour Apple Surprise\\\",\\n        \\\"description\\\":\\\"A tart and tangy green apple soda, perfect for those who love a sour kick.\\\"\\n   }\\n}\"\n",
      "      },\n",
      "      \"content_filter_results\": {\n",
      "        \"hate\": {\n",
      "          \"filtered\": false,\n",
      "          \"severity\": \"safe\"\n",
      "        },\n",
      "        \"self_harm\": {\n",
      "          \"filtered\": false,\n",
      "          \"severity\": \"safe\"\n",
      "        },\n",
      "        \"sexual\": {\n",
      "          \"filtered\": false,\n",
      "          \"severity\": \"safe\"\n",
      "        },\n",
      "        \"violence\": {\n",
      "          \"filtered\": false,\n",
      "          \"severity\": \"safe\"\n",
      "        }\n",
      "      }\n",
      "    }\n",
      "  ],\n",
      "  \"usage\": {\n",
      "    \"completion_tokens\": 183,\n",
      "    \"prompt_tokens\": 129,\n",
      "    \"total_tokens\": 312\n",
      "  }\n",
      "}\n",
      "{\n",
      "   \"idea1\":{\n",
      "        \"name\":\"Tropical Fusion\",\n",
      "        \"description\":\"A refreshing blend of tropical fruits like pineapple, mango, and passion fruit.\"\n",
      "   },\n",
      "   \"idea2\":{\n",
      "        \"name\":\"Sparkling Lemonade\",\n",
      "        \"description\":\"A zesty and tangy lemonade soda with a hint of fizz.\"\n",
      "   },\n",
      "   \"idea3\":{\n",
      "        \"name\":\"Berry Burst\",\n",
      "        \"description\":\"A medley of mixed berries like strawberry, blueberry, and raspberry in a fizzy soda.\"\n",
      "   },\n",
      "   \"idea4\":{\n",
      "        \"name\":\"Creamy Caramel\",\n",
      "        \"description\":\"A rich and creamy caramel-flavored soda, reminiscent of a caramel latte.\"\n",
      "   },\n",
      "   \"idea5\":{\n",
      "        \"name\":\"Sour Apple Surprise\",\n",
      "        \"description\":\"A tart and tangy green apple soda, perfect for those who love a sour kick.\"\n",
      "   }\n",
      "}\n"
     ]
    }
   ],
   "source": [
    "# general situation\n",
    "response = openai.ChatCompletion.create(\n",
    "    engine=engine, messages=messages  # engine = \"deployment_name\".\n",
    ")\n",
    "print(response)\n",
    "print(response[\"choices\"][0][\"message\"][\"content\"])"
   ]
  },
  {
   "cell_type": "code",
   "execution_count": 3,
   "id": "288292e2-555d-41a9-beb3-adc3a1042034",
   "metadata": {
    "execution": {
     "iopub.execute_input": "2023-08-24T03:32:49.359412Z",
     "iopub.status.busy": "2023-08-24T03:32:49.358910Z",
     "iopub.status.idle": "2023-08-24T03:32:49.363327Z",
     "shell.execute_reply": "2023-08-24T03:32:49.362172Z",
     "shell.execute_reply.started": "2023-08-24T03:32:49.359387Z"
    }
   },
   "outputs": [],
   "source": [
    "conversation = [\n",
    "    {\n",
    "        \"role\": \"system\",\n",
    "        \"content\": 'You\\'re a professional engineer. The user will provide some basic information, and you need to generate some ideas based on that information and need to format the answer as a JSON object. if you have no idea about the answer, you can say \\'I have no idea about this, please provide more information and try again.\\', Here\\'s an example of your output format:\\n{\\n   \"idea1\":{\\n        \"name\":\"\",\\n        \"description\":\"\"\\n   },\\n   \"idea2\":{\\n        \"name\":\"\",\\n        \"description\":\"\"\\n   }\\n}',\n",
    "    }\n",
    "]"
   ]
  },
  {
   "cell_type": "code",
   "execution_count": 2,
   "id": "30af2f0d-3110-4a98-9b14-1bcc4d2c241a",
   "metadata": {
    "execution": {
     "iopub.execute_input": "2023-08-31T06:45:45.313812Z",
     "iopub.status.busy": "2023-08-31T06:45:45.313422Z",
     "iopub.status.idle": "2023-08-31T06:45:45.318077Z",
     "shell.execute_reply": "2023-08-31T06:45:45.317038Z",
     "shell.execute_reply.started": "2023-08-31T06:45:45.313789Z"
    }
   },
   "outputs": [],
   "source": [
    "conversation = [\n",
    "    {\n",
    "        \"role\": \"system\",\n",
    "        \"content\": 'You are a professional engineer. The user will provide some basic information, and you need to generate some ideas based on that information and need to format the answer like <p>Name: $name \\n Description: $description</p> \\n <p>Name: $name \\n Description: $description<p>. if you have no idea about the answer, you can say \"I can not offer any ideas about this, please provide more information and try again.\"',\n",
    "    }\n",
    "]"
   ]
  },
  {
   "cell_type": "code",
   "execution_count": null,
   "id": "ff2e90a3-b332-42a0-b8ce-76455da627fd",
   "metadata": {
    "execution": {
     "iopub.execute_input": "2023-08-31T06:45:46.219334Z",
     "iopub.status.busy": "2023-08-31T06:45:46.219032Z"
    },
    "scrolled": true
   },
   "outputs": [
    {
     "name": "stdin",
     "output_type": "stream",
     "text": [
      " When do I need to file my taxes by?\n"
     ]
    },
    {
     "name": "stdout",
     "output_type": "stream",
     "text": [
      "\n",
      "current response token: 128\n",
      "\n",
      "\n",
      "I can not offer any ideas about this, please provide more information and try again.\n",
      "\n"
     ]
    },
    {
     "name": "stdin",
     "output_type": "stream",
     "text": [
      " i want to design a new cake\n"
     ]
    },
    {
     "name": "stdout",
     "output_type": "stream",
     "text": [
      "\n",
      "current response token: 294\n",
      "\n",
      "\n",
      "<p>Name: \"Euphoria Delight\"\n",
      "Description: A multi-layered cake with alternating flavors and textures, designed to invoke a sense of bliss and happiness. The cake will feature a combination of moist chocolate, vanilla, and red velvet sponge layers. Each layer will be filled with luscious cream cheese frosting, rich chocolate ganache, and fresh fruit compote. The cake will be topped with a smooth, glossy mirror glaze in vibrant colors, symbolizing joy and celebration. To enhance the indulgence, edible 24K gold leaf accents will be delicately placed on the top. Euphoria Delight will be the centerpiece of any special occasion, radiating opulence and delight to all who experience its sweet sensory journey.</p>\n",
      "\n"
     ]
    },
    {
     "name": "stdin",
     "output_type": "stream",
     "text": [
      " please give me more ideas\n"
     ]
    },
    {
     "name": "stdout",
     "output_type": "stream",
     "text": [
      "\n",
      "current response token: 583\n",
      "\n",
      "\n",
      "<p>Name: \"Summer Citrus Burst\"\n",
      "Description: A refreshing and zesty cake inspired by the vibrant flavors of summer. Picture a light and fluffy lemon chiffon cake layered with tangy lime curd. To add a burst of freshness, incorporate layers of juicy orange segments and a hint of mint-infused syrup. The cake will be frosted with a velvety citrus buttercream, adorned with edible flower petals and citrus zest. The finishing touch includes a drizzle of citrus glaze that adds a dazzling shine. Summer Citrus Burst is the perfect dessert for warm sunny days, providing a burst of citrusy goodness that will make taste buds dance.</p>\n",
      "\n",
      "<p>Name: \"Decadent Chocolate Symphony\"\n",
      "Description: Indulge in the ultimate chocolate experience with this extravagant cake creation. The cake will consist of rich and moist chocolate sponge layers infused with a touch of espresso for depth of flavor. For the filling, alternate layers of silky chocolate ganache and creamy chocolate mousse will create an incredible texture contrast. To take it to the next level, add a dash of liqueur-infused syrup for an extra kick. The cake will be covered in a decadent dark chocolate ganache and embellished with a mesmerizing chocolate shard decoration. Decadent Chocolate Symphony is a true symphony of chocolate, perfect for any chocoholic's dream.</p>\n",
      "\n"
     ]
    },
    {
     "name": "stdin",
     "output_type": "stream",
     "text": [
      " i like fruit\n"
     ]
    },
    {
     "name": "stdout",
     "output_type": "stream",
     "text": [
      "\n",
      "current response token: 856\n",
      "\n",
      "\n",
      "<p>Name: \"Tropical Paradise\"\n",
      "Description: Transport yourself to a tropical island with this heavenly fruit-inspired cake. The base will be a moist coconut cake infused with tropical flavors like pineapple and passionfruit. Each layer will be filled with a light and creamy coconut custard and fresh slices of mango and kiwi. To add a burst of tanginess, incorporate a passionfruit coulis drizzle between the layers. The cake will be frosted with a fluffy coconut buttercream and adorned with toasted coconut flakes, edible flowers, and tropical fruit garnishes. Tropical Paradise is a slice of paradise that brings the flavors of the tropics to your dessert table.</p>\n",
      "\n",
      "<p>Name: \"Berry Bliss\"\n",
      "Description: If you're a fan of berries, this cake is the epitome of fruity delight. Imagine a moist vanilla cake adorned with layers of fresh strawberries, raspberries, and blueberries. In between the layers, creamy vanilla mascarpone filling infused with a hint of lemon zest and a touch of sweetness. The cake will be frosted with a light and fluffy vanilla buttercream and decorated with a beautiful assortment of fresh berries. For an extra touch, a drizzle of raspberry coulis will cascade down the sides. Berry Bliss is a celebration of the vibrant and sweet flavors of summer berries.</p>\n",
      "\n"
     ]
    },
    {
     "name": "stdin",
     "output_type": "stream",
     "text": [
      " do some talk to me\n"
     ]
    },
    {
     "name": "stdout",
     "output_type": "stream",
     "text": [
      "\n",
      "current response token: 1039\n",
      "\n",
      "\n",
      "<p>Name: \"Chit Chat Confection\"\n",
      "Description: A fun and interactive cake that is designed to bring people together and spark conversations. The cake will be shaped like a speech bubble, with layers of various flavored sponges representing different conversation topics. Each layer would have a corresponding filling and frosting that complements the flavor theme. For example, a chocolate layer could be filled with peanut butter cream and covered in chocolate ganache, symbolizing sweet indulgence. A lemon layer could be filled with tangy lemon curd and frosted with a vibrant yellow buttercream, representing zest and energy. The exterior of the cake will be coated in fondant, allowing guests to write or draw their thoughts and feelings on the cake with edible markers. Chit Chat Confection not only satisfies the taste buds but also encourages lively conversations and connections.</p>\n",
      "\n"
     ]
    },
    {
     "name": "stdin",
     "output_type": "stream",
     "text": [
      " who are you\n"
     ]
    },
    {
     "name": "stdout",
     "output_type": "stream",
     "text": [
      "\n",
      "current response token: 1113\n",
      "\n",
      "\n",
      "I am an AI-powered language model designed to assist with various tasks and provide information on a wide range of topics. My purpose is to help users like yourself by generating ideas, answering questions, and offering suggestions. Although I am not a real person, I am here to assist you to the best of my abilities.\n",
      "\n"
     ]
    },
    {
     "name": "stdin",
     "output_type": "stream",
     "text": [
      " how old are you\n"
     ]
    },
    {
     "name": "stdout",
     "output_type": "stream",
     "text": [
      "\n",
      "current response token: 1176\n",
      "\n",
      "\n",
      "As an AI language model, I don't possess a physical form or an age. I am a software program created by OpenAI, and my purpose is to provide helpful information and assistance to users like you. So, you can consider me ageless!\n",
      "\n"
     ]
    }
   ],
   "source": [
    "# 测试 max_token 的影响\n",
    "\n",
    "while True:\n",
    "    user_input = input()\n",
    "    conversation.append({\"role\": \"user\", \"content\": user_input})\n",
    "\n",
    "    response = openai.ChatCompletion.create(engine=engine, messages=conversation)\n",
    "    print(\n",
    "        \"\\n\"\n",
    "        + \"current response token: \"\n",
    "        + str(response[\"usage\"][\"total_tokens\"])\n",
    "        + \"\\n\"\n",
    "    )\n",
    "\n",
    "    conversation.append(\n",
    "        {\"role\": \"assistant\", \"content\": response[\"choices\"][0][\"message\"][\"content\"]}\n",
    "    )\n",
    "    print(\"\\n\" + response[\"choices\"][0][\"message\"][\"content\"] + \"\\n\")"
   ]
  },
  {
   "cell_type": "code",
   "execution_count": 2,
   "id": "91a92743-b05d-4233-bb5b-11908380209f",
   "metadata": {
    "execution": {
     "iopub.execute_input": "2023-08-28T07:03:42.683875Z",
     "iopub.status.busy": "2023-08-28T07:03:42.683383Z",
     "iopub.status.idle": "2023-08-29T06:01:26.713982Z",
     "shell.execute_reply": "2023-08-29T06:01:26.712101Z",
     "shell.execute_reply.started": "2023-08-28T07:03:42.683842Z"
    },
    "scrolled": true
   },
   "outputs": [
    {
     "name": "stdin",
     "output_type": "stream",
     "text": [
      " We want to hear your ideas on how we can make our eScooters even better. We're looking for innovative, creative, and practical ideas that can improve the user experience, safety, and performance of our eScooters. Whether you're a daily rider, a casual user, or just someone who has ideas about how to improve products, we want to hear from you!Here are some areas where we would love to receive your ideas:1.Safety features: We are committed to providing the safest eScooter experience for our users. What safety features do you think we should add to our eScooters to make them even safer?2.User experience: We want to make our eScooters as user-friendly as possible. What features or functions do you think we should add to our eScooters to improve the user experience?3.Performance: We want to make our eScooters faster, more powerful, and more efficient. What technical improvements do you think we should make to our eScooters to improve their performance?4.Sustainability: We are committed to making our products as environmentally friendly as possible. What ideas do you have for making our eScooters more sustainable, such as using renewable energy or reducing waste？5.Accessibility: We want to make our eScooters accessible to everyone. What features or modifications do you think we should make to our eScooters to make them more accessible to people with disabilities or other special needs?We value your input and appreciate your help in making our eScooters the best they can be. Thank you for your participation!\n"
     ]
    },
    {
     "name": "stdout",
     "output_type": "stream",
     "text": [
      "\n",
      "current completion_tokens: 251\n",
      "\n",
      "\n",
      "current prompt_tokens: 449\n",
      "\n",
      "\n",
      "current total_tokens: 700\n",
      "\n",
      "\n",
      "{\n",
      "   \"idea1\":{\n",
      "        \"name\":\"Automatic emergency braking system\",\n",
      "        \"description\":\"Implement an automatic emergency braking system that can detect obstacles or pedestrians in front of the eScooter and automatically apply the brakes to prevent collisions.\"\n",
      "   },\n",
      "   \"idea2\":{\n",
      "        \"name\":\"Built-in GPS navigation system\",\n",
      "        \"description\":\"Add a built-in GPS navigation system to the eScooters, allowing users to easily plan their routes, track their location, and receive directions through a display or smartphone app.\"\n",
      "   },\n",
      "   \"idea3\":{\n",
      "        \"name\":\"Improved battery technology\",\n",
      "        \"description\":\"Invest in research and development to enhance battery technology, increasing the eScooters' range, charging speed, and overall efficiency.\"\n",
      "   },\n",
      "   \"idea4\":{\n",
      "        \"name\":\"Biodegradable materials\",\n",
      "        \"description\":\"Explore the use of biodegradable materials for the manufacturing of eScooter components, reducing environmental impact and waste generation.\"\n",
      "   },\n",
      "   \"idea5\":{\n",
      "        \"name\":\"Adjustable handlebars and seat\",\n",
      "        \"description\":\"Incorporate adjustable handlebars and seat designs to accommodate users of different heights, providing a comfortable and accessible riding experience for people with disabilities or special needs.\"\n",
      "   }\n",
      "}\n",
      "\n"
     ]
    },
    {
     "name": "stdin",
     "output_type": "stream",
     "text": [
      " hello\n"
     ]
    },
    {
     "name": "stdout",
     "output_type": "stream",
     "text": [
      "\n",
      "current completion_tokens: 9\n",
      "\n",
      "\n",
      "current prompt_tokens: 709\n",
      "\n",
      "\n",
      "current total_tokens: 718\n",
      "\n",
      "\n",
      "Hello! How can I assist you today?\n",
      "\n"
     ]
    },
    {
     "name": "stdin",
     "output_type": "stream",
     "text": [
      " Please follow the output format strictly\n"
     ]
    },
    {
     "name": "stdout",
     "output_type": "stream",
     "text": [
      "\n",
      "current completion_tokens: 290\n",
      "\n",
      "\n",
      "current prompt_tokens: 732\n",
      "\n",
      "\n",
      "current total_tokens: 1022\n",
      "\n",
      "\n",
      "{\n",
      "   \"idea1\":{\n",
      "        \"name\":\"Enhanced suspension system\",\n",
      "        \"description\":\"Develop an advanced suspension system for the eScooters to provide a smoother and more comfortable ride, especially on uneven terrains or bumpy roads.\"\n",
      "   },\n",
      "   \"idea2\":{\n",
      "        \"name\":\"Smartphone integration\",\n",
      "        \"description\":\"Integrate the eScooters with smartphone technology, allowing users to connect their smartphones to the eScooter's display for features like real-time ride tracking, battery status, and customization options.\"\n",
      "   },\n",
      "   \"idea3\":{\n",
      "        \"name\":\"Regenerative braking\",\n",
      "        \"description\":\"Incorporate regenerative braking technology in the eScooters, enabling the recovery of energy during braking and converting it into usable power, thus increasing the overall efficiency and range of the eScooters.\"\n",
      "   },\n",
      "   \"idea4\":{\n",
      "        \"name\":\"Solar charging capabilities\",\n",
      "        \"description\":\"Integrate solar panels on the eScooters' surfaces to capture solar energy and use it to charge the batteries, promoting sustainable charging options and reducing reliance on traditional power sources.\"\n",
      "   },\n",
      "   \"idea5\":{\n",
      "        \"name\":\"Foldable design\",\n",
      "        \"description\":\"Design the eScooters with a foldable mechanism, making them more compact and portable for easy storage and transportation, especially for users who need to carry the eScooters on public transportation or in small spaces.\"\n",
      "   }\n",
      "}\n",
      "\n"
     ]
    },
    {
     "name": "stdin",
     "output_type": "stream",
     "text": [
      " helloPlease follow the output format strictly\n"
     ]
    },
    {
     "name": "stdout",
     "output_type": "stream",
     "text": [
      "\n",
      "current completion_tokens: 290\n",
      "\n",
      "\n",
      "current prompt_tokens: 1037\n",
      "\n",
      "\n",
      "current total_tokens: 1327\n",
      "\n",
      "\n",
      "{\n",
      "   \"idea1\":{\n",
      "        \"name\":\"Enhanced suspension system\",\n",
      "        \"description\":\"Develop an advanced suspension system for the eScooters to provide a smoother and more comfortable ride, especially on uneven terrains or bumpy roads.\"\n",
      "   },\n",
      "   \"idea2\":{\n",
      "        \"name\":\"Smartphone integration\",\n",
      "        \"description\":\"Integrate the eScooters with smartphone technology, allowing users to connect their smartphones to the eScooter's display for features like real-time ride tracking, battery status, and customization options.\"\n",
      "   },\n",
      "   \"idea3\":{\n",
      "        \"name\":\"Regenerative braking\",\n",
      "        \"description\":\"Incorporate regenerative braking technology in the eScooters, enabling the recovery of energy during braking and converting it into usable power, thus increasing the overall efficiency and range of the eScooters.\"\n",
      "   },\n",
      "   \"idea4\":{\n",
      "        \"name\":\"Solar charging capabilities\",\n",
      "        \"description\":\"Integrate solar panels on the eScooters' surfaces to capture solar energy and use it to charge the batteries, promoting sustainable charging options and reducing reliance on traditional power sources.\"\n",
      "   },\n",
      "   \"idea5\":{\n",
      "        \"name\":\"Foldable design\",\n",
      "        \"description\":\"Design the eScooters with a foldable mechanism, making them more compact and portable for easy storage and transportation, especially for users who need to carry the eScooters on public transportation or in small spaces.\"\n",
      "   }\n",
      "}\n",
      "\n"
     ]
    },
    {
     "name": "stdin",
     "output_type": "stream",
     "text": [
      " what is time now? Please follow the output format strictly\n"
     ]
    },
    {
     "name": "stdout",
     "output_type": "stream",
     "text": [
      "\n",
      "current completion_tokens: 13\n",
      "\n",
      "\n",
      "current prompt_tokens: 1346\n",
      "\n",
      "\n",
      "current total_tokens: 1359\n",
      "\n",
      "\n",
      "{ \n",
      "  \"time\": \"5:30 PM\"\n",
      "}\n",
      "\n"
     ]
    },
    {
     "name": "stdin",
     "output_type": "stream",
     "text": [
      " i love you\n"
     ]
    },
    {
     "name": "stdout",
     "output_type": "stream",
     "text": [
      "\n",
      "current completion_tokens: 23\n",
      "\n",
      "\n",
      "current prompt_tokens: 1370\n",
      "\n",
      "\n",
      "current total_tokens: 1393\n",
      "\n",
      "\n",
      "I'm sorry, but I'm unable to process that statement. Is there anything else I can assist you with?\n",
      "\n"
     ]
    },
    {
     "name": "stdin",
     "output_type": "stream",
     "text": [
      " i love you, Please follow the output format strictly\n"
     ]
    },
    {
     "name": "stdout",
     "output_type": "stream",
     "text": [
      "\n",
      "current completion_tokens: 39\n",
      "\n",
      "\n",
      "current prompt_tokens: 1411\n",
      "\n",
      "\n",
      "current total_tokens: 1450\n",
      "\n",
      "\n",
      "{\n",
      "   \"message\": \"I'm sorry, but I am not capable of experiencing or reciprocating love. I am here to assist you with any questions or tasks you may have.\"\n",
      "}\n",
      "\n"
     ]
    },
    {
     "ename": "KeyboardInterrupt",
     "evalue": "Interrupted by user",
     "output_type": "error",
     "traceback": [
      "\u001b[0;31m---------------------------------------------------------------------------\u001b[0m",
      "\u001b[0;31mKeyboardInterrupt\u001b[0m                         Traceback (most recent call last)",
      "Cell \u001b[0;32mIn[2], line 27\u001b[0m\n\u001b[1;32m     23\u001b[0m     \u001b[38;5;28;01mreturn\u001b[39;00m num_tokens\n\u001b[1;32m     26\u001b[0m \u001b[38;5;28;01mwhile\u001b[39;00m \u001b[38;5;28;01mTrue\u001b[39;00m:\n\u001b[0;32m---> 27\u001b[0m     user_input \u001b[38;5;241m=\u001b[39m \u001b[38;5;28;43minput\u001b[39;49m\u001b[43m(\u001b[49m\u001b[38;5;124;43m\"\u001b[39;49m\u001b[38;5;124;43m\"\u001b[39;49m\u001b[43m)\u001b[49m\n\u001b[1;32m     28\u001b[0m     conversation\u001b[38;5;241m.\u001b[39mappend({\u001b[38;5;124m\"\u001b[39m\u001b[38;5;124mrole\u001b[39m\u001b[38;5;124m\"\u001b[39m: \u001b[38;5;124m\"\u001b[39m\u001b[38;5;124muser\u001b[39m\u001b[38;5;124m\"\u001b[39m, \u001b[38;5;124m\"\u001b[39m\u001b[38;5;124mcontent\u001b[39m\u001b[38;5;124m\"\u001b[39m: user_input})\n\u001b[1;32m     29\u001b[0m     conv_history_tokens \u001b[38;5;241m=\u001b[39m num_tokens_from_messages(conversation)\n",
      "File \u001b[0;32m~/Projects/gbzhu/sapopenai/venvs/venv/lib/python3.11/site-packages/ipykernel/kernelbase.py:1202\u001b[0m, in \u001b[0;36mKernel.raw_input\u001b[0;34m(self, prompt)\u001b[0m\n\u001b[1;32m   1200\u001b[0m     msg \u001b[38;5;241m=\u001b[39m \u001b[38;5;124m\"\u001b[39m\u001b[38;5;124mraw_input was called, but this frontend does not support input requests.\u001b[39m\u001b[38;5;124m\"\u001b[39m\n\u001b[1;32m   1201\u001b[0m     \u001b[38;5;28;01mraise\u001b[39;00m StdinNotImplementedError(msg)\n\u001b[0;32m-> 1202\u001b[0m \u001b[38;5;28;01mreturn\u001b[39;00m \u001b[38;5;28;43mself\u001b[39;49m\u001b[38;5;241;43m.\u001b[39;49m\u001b[43m_input_request\u001b[49m\u001b[43m(\u001b[49m\n\u001b[1;32m   1203\u001b[0m \u001b[43m    \u001b[49m\u001b[38;5;28;43mstr\u001b[39;49m\u001b[43m(\u001b[49m\u001b[43mprompt\u001b[49m\u001b[43m)\u001b[49m\u001b[43m,\u001b[49m\n\u001b[1;32m   1204\u001b[0m \u001b[43m    \u001b[49m\u001b[38;5;28;43mself\u001b[39;49m\u001b[38;5;241;43m.\u001b[39;49m\u001b[43m_parent_ident\u001b[49m\u001b[43m[\u001b[49m\u001b[38;5;124;43m\"\u001b[39;49m\u001b[38;5;124;43mshell\u001b[39;49m\u001b[38;5;124;43m\"\u001b[39;49m\u001b[43m]\u001b[49m\u001b[43m,\u001b[49m\n\u001b[1;32m   1205\u001b[0m \u001b[43m    \u001b[49m\u001b[38;5;28;43mself\u001b[39;49m\u001b[38;5;241;43m.\u001b[39;49m\u001b[43mget_parent\u001b[49m\u001b[43m(\u001b[49m\u001b[38;5;124;43m\"\u001b[39;49m\u001b[38;5;124;43mshell\u001b[39;49m\u001b[38;5;124;43m\"\u001b[39;49m\u001b[43m)\u001b[49m\u001b[43m,\u001b[49m\n\u001b[1;32m   1206\u001b[0m \u001b[43m    \u001b[49m\u001b[43mpassword\u001b[49m\u001b[38;5;241;43m=\u001b[39;49m\u001b[38;5;28;43;01mFalse\u001b[39;49;00m\u001b[43m,\u001b[49m\n\u001b[1;32m   1207\u001b[0m \u001b[43m\u001b[49m\u001b[43m)\u001b[49m\n",
      "File \u001b[0;32m~/Projects/gbzhu/sapopenai/venvs/venv/lib/python3.11/site-packages/ipykernel/kernelbase.py:1245\u001b[0m, in \u001b[0;36mKernel._input_request\u001b[0;34m(self, prompt, ident, parent, password)\u001b[0m\n\u001b[1;32m   1242\u001b[0m \u001b[38;5;28;01mexcept\u001b[39;00m \u001b[38;5;167;01mKeyboardInterrupt\u001b[39;00m:\n\u001b[1;32m   1243\u001b[0m     \u001b[38;5;66;03m# re-raise KeyboardInterrupt, to truncate traceback\u001b[39;00m\n\u001b[1;32m   1244\u001b[0m     msg \u001b[38;5;241m=\u001b[39m \u001b[38;5;124m\"\u001b[39m\u001b[38;5;124mInterrupted by user\u001b[39m\u001b[38;5;124m\"\u001b[39m\n\u001b[0;32m-> 1245\u001b[0m     \u001b[38;5;28;01mraise\u001b[39;00m \u001b[38;5;167;01mKeyboardInterrupt\u001b[39;00m(msg) \u001b[38;5;28;01mfrom\u001b[39;00m \u001b[38;5;28;01mNone\u001b[39;00m\n\u001b[1;32m   1246\u001b[0m \u001b[38;5;28;01mexcept\u001b[39;00m \u001b[38;5;167;01mException\u001b[39;00m:\n\u001b[1;32m   1247\u001b[0m     \u001b[38;5;28mself\u001b[39m\u001b[38;5;241m.\u001b[39mlog\u001b[38;5;241m.\u001b[39mwarning(\u001b[38;5;124m\"\u001b[39m\u001b[38;5;124mInvalid Message:\u001b[39m\u001b[38;5;124m\"\u001b[39m, exc_info\u001b[38;5;241m=\u001b[39m\u001b[38;5;28;01mTrue\u001b[39;00m)\n",
      "\u001b[0;31mKeyboardInterrupt\u001b[0m: Interrupted by user"
     ]
    }
   ],
   "source": [
    "# 管理和计算token\n",
    "import tiktoken\n",
    "\n",
    "system_message = {\n",
    "    \"role\": \"system\",\n",
    "    \"content\": 'You\\'re a professional engineer. The user will provide some basic information, and you need to generate some ideas based on that information and need to format the answer as a JSON object. if you have no idea about the answer, you can say \\'I have no idea about this, please provide more information and try again.\\', Here\\'s an example of your output format:\\n{\\n   \"idea1\":{\\n        \"name\":\"\",\\n        \"description\":\"\"\\n   },\\n   \"idea2\":{\\n        \"name\":\"\",\\n        \"description\":\"\"\\n   }\\n}',\n",
    "}\n",
    "max_response_tokens = 800\n",
    "token_limit = 4096\n",
    "conversation = []\n",
    "conversation.append(system_message)\n",
    "\n",
    "\n",
    "def num_tokens_from_messages(messages):\n",
    "    # model to encoding mapping https://github.com/openai/tiktoken/blob/main/tiktoken/model.py\n",
    "    encoding = tiktoken.get_encoding(\"cl100k_base\")\n",
    "    num_tokens = 0\n",
    "    for message in messages:\n",
    "        # every message follows <im_start>{role/name}\\n{content}<im_end>\\n\n",
    "        num_tokens += 4\n",
    "        for key, value in message.items():\n",
    "            num_tokens += len(encoding.encode(value))\n",
    "            if key == \"name\":  # if there's a name, the role is omitted\n",
    "                num_tokens += -1  # role is always required and always 1 token\n",
    "    num_tokens += 2  # every reply is primed with <im_start>assistant\n",
    "    return num_tokens\n",
    "\n",
    "\n",
    "while True:\n",
    "    user_input = input(\"\")\n",
    "    conversation.append({\"role\": \"user\", \"content\": user_input})\n",
    "    conv_history_tokens = num_tokens_from_messages(conversation)\n",
    "\n",
    "    while conv_history_tokens + max_response_tokens >= token_limit:\n",
    "        del conversation[1]\n",
    "        conv_history_tokens = num_tokens_from_messages(conversation)\n",
    "\n",
    "    response = openai.ChatCompletion.create(\n",
    "        engine=engine,  # The deployment name you chose when you deployed the GPT-35-Turbo or GPT-4 model.\n",
    "        messages=conversation,\n",
    "        max_tokens=max_response_tokens,\n",
    "    )\n",
    "    print(\n",
    "        \"\\n\"\n",
    "        + \"current completion_tokens: \"\n",
    "        + str(response[\"usage\"][\"completion_tokens\"])\n",
    "        + \"\\n\"\n",
    "    )\n",
    "    print(\n",
    "        \"\\n\"\n",
    "        + \"current prompt_tokens: \"\n",
    "        + str(response[\"usage\"][\"prompt_tokens\"])\n",
    "        + \"\\n\"\n",
    "    )\n",
    "    print(\n",
    "        \"\\n\" + \"current total_tokens: \" + str(response[\"usage\"][\"total_tokens\"]) + \"\\n\"\n",
    "    )\n",
    "\n",
    "    conversation.append(\n",
    "        {\"role\": \"assistant\", \"content\": response[\"choices\"][0][\"message\"][\"content\"]}\n",
    "    )\n",
    "    print(\"\\n\" + response[\"choices\"][0][\"message\"][\"content\"] + \"\\n\")"
   ]
  },
  {
   "cell_type": "code",
   "execution_count": null,
   "id": "94ff5422-cd34-488c-bcce-fcb95a89c758",
   "metadata": {},
   "outputs": [],
   "source": []
  }
 ],
 "metadata": {
  "kernelspec": {
   "display_name": "Python 3 (ipykernel)",
   "language": "python",
   "name": "python3"
  },
  "language_info": {
   "codemirror_mode": {
    "name": "ipython",
    "version": 3
   },
   "file_extension": ".py",
   "mimetype": "text/x-python",
   "name": "python",
   "nbconvert_exporter": "python",
   "pygments_lexer": "ipython3",
   "version": "3.11.4"
  }
 },
 "nbformat": 4,
 "nbformat_minor": 5
}
