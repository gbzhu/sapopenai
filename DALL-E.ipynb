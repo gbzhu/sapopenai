{
 "cells": [
  {
   "cell_type": "code",
   "execution_count": 3,
   "id": "0adef75d-35aa-4328-81d2-a8db9bb065c9",
   "metadata": {
    "execution": {
     "iopub.execute_input": "2023-09-06T07:46:18.662882Z",
     "iopub.status.busy": "2023-09-06T07:46:18.662449Z",
     "iopub.status.idle": "2023-09-06T07:46:18.667027Z",
     "shell.execute_reply": "2023-09-06T07:46:18.666027Z",
     "shell.execute_reply.started": "2023-09-06T07:46:18.662855Z"
    }
   },
   "outputs": [],
   "source": [
    "prompt_text = \"Integrated GPS and security features: Many e-scooters are stolen or misplaced due to their small size and lack of security features. By integrating GPS and other security features, users can track their e-scooters and ensure they are always secure.\"\n",
    "num_of_picture = 2\n",
    "name = \"dall-e-gpt4\""
   ]
  },
  {
   "cell_type": "code",
   "execution_count": 14,
   "id": "35fa8ec8-171d-439c-9fbd-0f0777f53ac8",
   "metadata": {
    "execution": {
     "iopub.execute_input": "2023-09-06T08:03:07.288189Z",
     "iopub.status.busy": "2023-09-06T08:03:07.287802Z",
     "iopub.status.idle": "2023-09-06T08:03:07.298303Z",
     "shell.execute_reply": "2023-09-06T08:03:07.296457Z",
     "shell.execute_reply.started": "2023-09-06T08:03:07.288164Z"
    }
   },
   "outputs": [],
   "source": [
    "import configparser\n",
    "import os\n",
    "\n",
    "import openai\n",
    "import requests\n",
    "from PIL import Image\n",
    "\n",
    "config = configparser.ConfigParser()\n",
    "config.read(\"config.ini\")\n",
    "\n",
    "\n",
    "engine = \"\"\n",
    "\n",
    "\n",
    "def config_model(section=\"inm.gpt4\"):\n",
    "    openai.api_key = config[section][\"api_key\"]\n",
    "    openai.api_type = config[section][\"api_type\"]\n",
    "    openai.api_base = config[section][\"api_base\"]\n",
    "    openai.api_version = config[section][\"api_version\"]\n",
    "    global engine\n",
    "    engine = config[section][\"engine\"]\n",
    "\n",
    "\n",
    "config_model()  # default gpt4\n"
   ]
  },
  {
   "cell_type": "code",
   "execution_count": 15,
   "id": "2e66b82f-3e1d-4f4a-92d1-3665e0b38faf",
   "metadata": {
    "execution": {
     "iopub.execute_input": "2023-09-06T08:03:08.782932Z",
     "iopub.status.busy": "2023-09-06T08:03:08.782643Z",
     "iopub.status.idle": "2023-09-06T08:03:08.786693Z",
     "shell.execute_reply": "2023-09-06T08:03:08.785760Z",
     "shell.execute_reply.started": "2023-09-06T08:03:08.782909Z"
    }
   },
   "outputs": [],
   "source": [
    "# content = \"Integrated GPS and security features: Many e-scooters are stolen or misplaced due to their small size and lack of security features. By integrating GPS and other security features, users can track their e-scooters and ensure they are always secure.\"\n",
    "content = \"Solar panels: Integrating solar panels into the eScooter design would allow for charging the battery using renewable energy sources.\""
   ]
  },
  {
   "cell_type": "code",
   "execution_count": 16,
   "id": "301f8d30-230f-47de-9864-0bfca2cf177a",
   "metadata": {
    "execution": {
     "iopub.execute_input": "2023-09-06T08:03:09.342770Z",
     "iopub.status.busy": "2023-09-06T08:03:09.342349Z",
     "iopub.status.idle": "2023-09-06T08:03:09.346183Z",
     "shell.execute_reply": "2023-09-06T08:03:09.345382Z",
     "shell.execute_reply.started": "2023-09-06T08:03:09.342747Z"
    }
   },
   "outputs": [],
   "source": [
    "action = \"\\n Give me a prompt for generating an image based on the above message.\""
   ]
  },
  {
   "cell_type": "code",
   "execution_count": 18,
   "id": "2292d105-6791-43f8-bb45-cbf03bcc439c",
   "metadata": {
    "execution": {
     "iopub.execute_input": "2023-09-06T08:03:48.876650Z",
     "iopub.status.busy": "2023-09-06T08:03:48.876345Z",
     "iopub.status.idle": "2023-09-06T08:03:49.972197Z",
     "shell.execute_reply": "2023-09-06T08:03:49.971484Z",
     "shell.execute_reply.started": "2023-09-06T08:03:48.876627Z"
    }
   },
   "outputs": [
    {
     "name": "stdout",
     "output_type": "stream",
     "text": [
      "\n",
      "\"Design an eScooter integrated with solar panels for renewable energy charging.\"\n",
      "\n"
     ]
    }
   ],
   "source": [
    "# generate image prompt gpt\n",
    "\n",
    "conversation = [\n",
    "    {\n",
    "        \"role\": \"user\",\n",
    "        \"content\": content + action,\n",
    "    }\n",
    "]\n",
    "response = openai.ChatCompletion.create(engine=engine, messages=conversation)\n",
    "prompt = response[\"choices\"][0][\"message\"][\"content\"]\n",
    "print(\"\\n\" + prompt + \"\\n\")"
   ]
  },
  {
   "cell_type": "code",
   "execution_count": 19,
   "id": "674539bb-9dc5-4298-aeee-270785a9b109",
   "metadata": {
    "execution": {
     "iopub.execute_input": "2023-09-06T08:03:53.496729Z",
     "iopub.status.busy": "2023-09-06T08:03:53.496422Z",
     "iopub.status.idle": "2023-09-06T08:04:07.814153Z",
     "shell.execute_reply": "2023-09-06T08:04:07.813471Z",
     "shell.execute_reply.started": "2023-09-06T08:03:53.496706Z"
    }
   },
   "outputs": [],
   "source": [
    "# Create an image by using the image generation API\n",
    "generation_response = openai.Image.create(\n",
    "    prompt=prompt,  # Enter your prompt text here\n",
    "    size=\"1024x1024\",\n",
    "    n=num_of_picture,\n",
    ")\n",
    "\n",
    "# Set the directory for the stored image\n",
    "image_dir = os.path.join(os.curdir, \"images\")\n",
    "\n",
    "# If the directory doesn't exist, create it\n",
    "if not os.path.isdir(image_dir):\n",
    "    os.mkdir(image_dir)\n",
    "\n",
    "# Retrieve the generated image\n",
    "for i in range(num_of_picture):\n",
    "    # Initialize the image path (note the filetype should be png)\n",
    "    image_path = os.path.join(image_dir, name + \"_\" + str(i) + \".png\")\n",
    "    image_url = generation_response[\"data\"][i][\"url\"]  # extract image URL from response\n",
    "    generated_image = requests.get(image_url).content  # download the image\n",
    "    with open(image_path, \"wb\") as image_file:\n",
    "        image_file.write(generated_image)\n",
    "\n",
    "# # Display the image in the default image viewer\n",
    "# image = Image.open(image_path)\n",
    "# image.show()"
   ]
  },
  {
   "cell_type": "code",
   "execution_count": null,
   "id": "35195647-302f-443f-aee5-7acf93bde80c",
   "metadata": {},
   "outputs": [],
   "source": []
  }
 ],
 "metadata": {
  "kernelspec": {
   "display_name": "Python 3 (ipykernel)",
   "language": "python",
   "name": "python3"
  },
  "language_info": {
   "codemirror_mode": {
    "name": "ipython",
    "version": 3
   },
   "file_extension": ".py",
   "mimetype": "text/x-python",
   "name": "python",
   "nbconvert_exporter": "python",
   "pygments_lexer": "ipython3",
   "version": "3.11.6"
  }
 },
 "nbformat": 4,
 "nbformat_minor": 5
}
