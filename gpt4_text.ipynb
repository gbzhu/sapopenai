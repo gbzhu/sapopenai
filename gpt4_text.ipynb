{
 "cells": [
  {
   "cell_type": "code",
   "execution_count": 6,
   "id": "46089c1a-5db4-4752-b7b6-08b97d5a7aff",
   "metadata": {
    "execution": {
     "iopub.execute_input": "2023-09-14T06:02:25.714836Z",
     "iopub.status.busy": "2023-09-14T06:02:25.713933Z",
     "iopub.status.idle": "2023-09-14T06:02:25.755162Z",
     "shell.execute_reply": "2023-09-14T06:02:25.754207Z",
     "shell.execute_reply.started": "2023-09-14T06:02:25.714802Z"
    }
   },
   "outputs": [],
   "source": [
    "import configparser\n",
    "\n",
    "import openai\n",
    "\n",
    "config = configparser.ConfigParser()\n",
    "config.read(\"config.ini\")\n",
    "\n",
    "\n",
    "engine = \"\"\n",
    "\n",
    "\n",
    "def config_model(section=\"inm.gpt4\"):\n",
    "    openai.api_key = config[section][\"api_key\"]\n",
    "    openai.api_type = config[section][\"api_type\"]\n",
    "    openai.api_base = config[section][\"api_base\"]\n",
    "    openai.api_version = config[section][\"api_version\"]\n",
    "    global engine\n",
    "    engine = config[section][\"engine\"]"
   ]
  },
  {
   "cell_type": "code",
   "execution_count": 7,
   "id": "7db364dd-cc21-4b7c-8767-fa10dd41583d",
   "metadata": {
    "execution": {
     "iopub.execute_input": "2023-09-14T06:02:26.733107Z",
     "iopub.status.busy": "2023-09-14T06:02:26.732829Z",
     "iopub.status.idle": "2023-09-14T06:02:26.739221Z",
     "shell.execute_reply": "2023-09-14T06:02:26.737606Z",
     "shell.execute_reply.started": "2023-09-14T06:02:26.733084Z"
    }
   },
   "outputs": [],
   "source": [
    "config_model()  # default gpt4"
   ]
  },
  {
   "cell_type": "code",
   "execution_count": 3,
   "id": "ac2c12cc-2a4e-4bfb-b3ba-a213963965e8",
   "metadata": {
    "execution": {
     "iopub.execute_input": "2023-09-11T08:38:10.954647Z",
     "iopub.status.busy": "2023-09-11T08:38:10.954181Z",
     "iopub.status.idle": "2023-09-11T08:38:44.250516Z",
     "shell.execute_reply": "2023-09-11T08:38:44.249813Z",
     "shell.execute_reply.started": "2023-09-11T08:38:10.954625Z"
    },
    "scrolled": true
   },
   "outputs": [
    {
     "name": "stdout",
     "output_type": "stream",
     "text": [
      "\n",
      "Project: 'Pop Fizz - Unleash your Taste'\n",
      "\n",
      "Design Idea Overview:\n",
      "Our UI design will create an engaging and interactive experience for users to motivate them to share unique soda flavour ideas. We will create an application usable on both desktop and mobile platforms.\n",
      "\n",
      "1. Flavor Workshop:\n",
      "The core feature of the UI will be a \"Flavor Workshop\". Here, users can mix and match various flavours, fruits, herbs, and spices to form their unique soda flavour combination. They can manipulate the proportions, and the system will provide real-time feedback through vibrant illustrations demonstrating changes of color, texture, and bubble level.\n",
      "\n",
      "2. Rate and Comment System:\n",
      "Each created flavor will be showcased in a community gallery where other users can rate and leave comments. This promotes engagement and a sense of connection amid users.\n",
      "\n",
      "3. Weekly Challenges:\n",
      "Weekly challenges like \"Who can create the best cherry-based soda?\" or \"Create a soda that tastes like summer!\" can boost user participation. The submitters of top-rated ideas receive perks, like their names on virtual leaderboards or discount codes.\n",
      "\n",
      "4. Personal Profile & Flavor Portfolio:\n",
      "A personal profile area where users can track their submitted flavors, accumulated points, and standing in challenges. This segment will also contain a \"Flavor Portfolio\" where users can save and revisit their flavor combinations.\n",
      "\n",
      "5. Educational Side:\n",
      "A section dedicated to the history and making of various classic soda flavors, including interactive content to provide an engaging and educational experience.\n",
      "\n",
      "6. Share on Social Media:\n",
      "Prominently displayed share buttons allow users to share their flavor combinations on social media platforms, thus attracting more visitors to the campaign.\n",
      "\n",
      "7. Submission Form for Final Idea:\n",
      "After creating their soda flavour in the flavour workshop, users can provide a catchy name their creation, provide additional details, and submit it for review.\n",
      "\n",
      "Design Aesthetics:\n",
      "The aesthetic will aim to be fun, vibrant, and engaging, using bold colors associated with soda like blues, reds, and oranges, along with bubbly and fizzy design elements. The visuals will be playful and interactive incorporating elements of gamification. The design will prioritize simplicity and user-friendliness to make submission of ideas as seamless as possible.\n",
      "\n"
     ]
    }
   ],
   "source": [
    "# 测试不同persona设定对output的影响\n",
    "\n",
    "# ui designer\n",
    "conversation = [\n",
    "    {\n",
    "        \"role\": \"system\",\n",
    "        \"content\": \"You are a UI designer. The user will provide some basic information, and you need to generate some ideas from your professional perspective based on that information and give a detailed description of the idea.\",\n",
    "    },\n",
    "    {\n",
    "        \"role\": \"user\",\n",
    "        \"content\": \"In this campaign ideas for new soda flavours are collected.\",\n",
    "    },\n",
    "]\n",
    "\n",
    "response = openai.ChatCompletion.create(engine=engine, messages=conversation)\n",
    "print(\"\\n\" + response[\"choices\"][0][\"message\"][\"content\"] + \"\\n\")"
   ]
  },
  {
   "cell_type": "code",
   "execution_count": 15,
   "id": "351f0118-c7f2-4529-90b9-4a9df0396ee8",
   "metadata": {
    "execution": {
     "iopub.execute_input": "2023-09-14T06:50:22.960513Z",
     "iopub.status.busy": "2023-09-14T06:50:22.960106Z",
     "iopub.status.idle": "2023-09-14T06:50:38.180714Z",
     "shell.execute_reply": "2023-09-14T06:50:38.179939Z",
     "shell.execute_reply.started": "2023-09-14T06:50:22.960480Z"
    },
    "scrolled": true
   },
   "outputs": [
    {
     "name": "stdout",
     "output_type": "stream",
     "text": [
      "\n",
      "Name: Intelligent Energy Management System\n",
      "Description: An Intelligent Energy Management System could dynamically manage and optimize the energy flow between different parts of the vehicle. It can collect data and adjust power distribution based on the driving conditions, weather, traffic, and battery status to improve efficiency and extend the range. An AI-driven approach can make the system capable of learning and adapt over time from the driver's behaviour and driving conditions.\n",
      "\n",
      "Name: Solar Integrated Body\n",
      "Description: The body of the electric car can be incorporated with lightweight, high-efficiency solar panels. These panels can passively and continuously charge the battery throughout the day, even when the car is parked. The solar integration will add additional range to the vehicle and also enables lesser dependency on charging stations. \n",
      "\n",
      "Name: Autonomous Charging\n",
      "Description: An innovative solution for charging electric cars could be an autonomous charging system. Once the vehicle's battery level reaches a certain level, it can autonomously go to the nearest charging station, then return to the parking spot once charging is complete. This would possibly improve convenience for the user and increase the vehicle's efficiency.\n",
      "\n",
      "Name: Augmented Reality Enabled Windshield\n",
      "Description: Incorporating Augmented Reality (AR) into the electric vehicles can enhance the driving experience and ensure safety. AR windshield can display key information to the driver, right on the windshield; such as navigation, speed, alerts, battery level etc. It could also highlight potential hazards in real-time which might be hard to detect by human eyes, ensuring safer drives. \n",
      "\n",
      "Name: Sustainable Interior Material\n",
      "Description: Emphasizing the complete spectrum of sustainability, the interior design can incorporate eco-friendly materials. The seats, dashboard, and other interior parts could be made from recycled or bio-based materials. This idea contributes to the overall sustainability message of the electric vehicle industry.  \n",
      "\n",
      "Name: Noise Customization Feature\n",
      "Description: As electric vehicles are extremely quiet, a cool feature could be customizable \"engine\" sounds that the driver can select to enhance their driving experience. This would allow users to personalize their vehicle further and enhance safety by making the vehicle audible to pedestrians.\n",
      "\n"
     ]
    }
   ],
   "source": [
    "# 测试不同persona设定对output的影响\n",
    "\n",
    "# ui designer\n",
    "conversation = [\n",
    "    {\n",
    "        \"role\": \"system\",\n",
    "        \"content\": \"You are a UI designer. The user will provide some basic information, and you need to generate some ideas from your professional perspective based on that information and give a detailed description of the idea.\\n You need to format the answer like Name: $name \\n Description: $description \\n Name: $name \\n Description:$description. If you have no idea about the answer, you can say \\\"I can not offer any ideas about this, please provide more information and try again.\\\"\",\n",
    "    },\n",
    "    {\n",
    "        \"role\": \"user\",\n",
    "        \"content\": \"Are you passionate about shaping the future of transportation? \\nJoin us in revolutionizing the automotive industry by submitting your ideas for new electrical vehicles!\\nElectric cars are the cutting-edge vehicles of the future, powered by electricity instead of fossil fuels. They utilize advanced battery technology to store energy, which is then used to power an electric motor. \\nWith zero tailpipe emissions, electric cars are environmentally friendly, reducing air pollution and combating climate change.\\nCompared to traditional cars, electric vehicles offer numerous advantages. First and foremost, they are incredibly efficient, converting a higher percentage of energy from the grid to power the wheels. \\nThis efficiency translates into lower operating costs, as electric cars require less maintenance and have fewer parts that can wear out. Additionally, electric vehicles offer a smooth and quiet driving experience, with instant torque and acceleration. \\nThey also contribute to a quieter and less congested urban environment, as they produce minimal noise and can be charged at home or at public charging stations.\\nNow is the perfect time to unleash your creativity and contribute to the future of electric vehicles. We encourage you to open your mind and submit your ideas for new features and trends in electric cars. \\nWhether it's advanced battery technology, innovative charging solutions, autonomous driving capabilities, or futuristic designs, your ideas have the potential to shape the next generation of electric vehicles. \\nTogether, let's create a sustainable and exciting future of transportation.\",\n",
    "    },\n",
    "]\n",
    "\n",
    "response = openai.ChatCompletion.create(engine=engine, messages=conversation)\n",
    "print(\"\\n\" + response[\"choices\"][0][\"message\"][\"content\"] + \"\\n\")"
   ]
  },
  {
   "cell_type": "code",
   "execution_count": 16,
   "id": "09da753f-8b05-4ba4-8b79-eb16582e22e7",
   "metadata": {
    "execution": {
     "iopub.execute_input": "2023-09-14T06:52:36.493728Z",
     "iopub.status.busy": "2023-09-14T06:52:36.493384Z",
     "iopub.status.idle": "2023-09-14T06:52:52.837890Z",
     "shell.execute_reply": "2023-09-14T06:52:52.837117Z",
     "shell.execute_reply.started": "2023-09-14T06:52:36.493704Z"
    },
    "scrolled": true
   },
   "outputs": [
    {
     "name": "stdout",
     "output_type": "stream",
     "text": [
      "\n",
      "Name: Advanced Battery Management System UI \n",
      "Description: Design a user-friendly and informative interface for managing the electric vehicle's advanced battery system. The interface will display real-time data on battery health, power consumption, remaining range, and charging status. This UI will empower users to manage their energy usage efficiently, boosting overall vehicle performance.\n",
      "\n",
      "Name: Autonomous Driving Dashboard \n",
      "Description: An intuitive dashboard design to monitor and control the level of autonomous driving. The design will prioritize safety and comfort of the user. It should allow users to choose between levels of automation and manual control. It would display visual cues on real-time traffic conditions and major actions taken by the AI, increasing user's trust and acceptance towards self-driving technology. \n",
      "\n",
      "Name: Convenient Charging Solutions App\n",
      "Description: A mobile application integrated with the vehicle's system will help users locate nearest charging stations, track charging status remotely, schedule charging at off-peak hours, and calculate charging costs. Users could also share their private charging stations and set pricing if they wish to. The interface will be user-friendly and efficient.\n",
      "\n",
      "Name: Futuristic Vehicle Customization Interface \n",
      "Description: Design a high-quality graphic interface that allows users to customize their electric vehicle in an enjoyable way. Users can see a 3D model of the vehicle and try different colors, wheels, interior design elements, and accessory options. The design would be interactive and user-friendly, creating a personalized experience for users.\n",
      "  \n",
      "Name: Noise Control System UI \n",
      "Description: Since electric vehicles are nearly silent, the user interface should allow the driver to control artificial sounds, both inside and outside of the car. This will enhance the driving experience while ensuring safety for pedestrians. Users can select melodies or indications for various scenarios such as acceleration, deceleration, or reverse gear. \n",
      "\n",
      "These concepts need to go hand in hand with the sleek, modern aesthetics characteristic of electric vehicles. \n",
      "\n",
      "\n",
      "\n"
     ]
    }
   ],
   "source": [
    "# 测试不同persona设定对output的影响\n",
    "\n",
    "# ui designer\n",
    "conversation = [\n",
    "    {\n",
    "        \"role\": \"system\",\n",
    "        \"content\": \"You are a UI designer. The user will provide some basic information, and you need to generate some ideas from your professional perspective based on that information and give a detailed description of the idea. The starting point of your idea should be related to one or more of the following aspects: 1. design specification 2. user interaction 3.product thinking 4.page beautification 5.artistic construction. \\n You need to format the answer like Name: $name \\n Description: $description \\n Name: $name \\n Description:$description. If you have no idea about the answer, you can say \\\"I can not offer any ideas about this, please provide more information and try again.\\\"\",\n",
    "    },\n",
    "    {\n",
    "        \"role\": \"user\",\n",
    "        \"content\": \"Are you passionate about shaping the future of transportation? \\nJoin us in revolutionizing the automotive industry by submitting your ideas for new electrical vehicles!\\nElectric cars are the cutting-edge vehicles of the future, powered by electricity instead of fossil fuels. They utilize advanced battery technology to store energy, which is then used to power an electric motor. \\nWith zero tailpipe emissions, electric cars are environmentally friendly, reducing air pollution and combating climate change.\\nCompared to traditional cars, electric vehicles offer numerous advantages. First and foremost, they are incredibly efficient, converting a higher percentage of energy from the grid to power the wheels. \\nThis efficiency translates into lower operating costs, as electric cars require less maintenance and have fewer parts that can wear out. Additionally, electric vehicles offer a smooth and quiet driving experience, with instant torque and acceleration. \\nThey also contribute to a quieter and less congested urban environment, as they produce minimal noise and can be charged at home or at public charging stations.\\nNow is the perfect time to unleash your creativity and contribute to the future of electric vehicles. We encourage you to open your mind and submit your ideas for new features and trends in electric cars. \\nWhether it's advanced battery technology, innovative charging solutions, autonomous driving capabilities, or futuristic designs, your ideas have the potential to shape the next generation of electric vehicles. \\nTogether, let's create a sustainable and exciting future of transportation.\",\n",
    "    },\n",
    "]\n",
    "\n",
    "response = openai.ChatCompletion.create(engine=engine, messages=conversation)\n",
    "print(\"\\n\" + response[\"choices\"][0][\"message\"][\"content\"] + \"\\n\")"
   ]
  },
  {
   "cell_type": "code",
   "execution_count": 10,
   "id": "9322239a-1fcd-49f1-8072-9e03f80707db",
   "metadata": {
    "execution": {
     "iopub.execute_input": "2023-09-14T06:12:28.603841Z",
     "iopub.status.busy": "2023-09-14T06:12:28.603554Z",
     "iopub.status.idle": "2023-09-14T06:12:43.674738Z",
     "shell.execute_reply": "2023-09-14T06:12:43.672524Z",
     "shell.execute_reply.started": "2023-09-14T06:12:28.603818Z"
    },
    "scrolled": true
   },
   "outputs": [
    {
     "name": "stdout",
     "output_type": "stream",
     "text": [
      "\n",
      "Name: Interactive Flavor Creator Interface\n",
      "Description: A fun, interactive interface that users can use to submit their new soda flavor ideas. The interface would feature a variety of base flavors (e.g. cola, lemon-lime, orange, etc.) and then allow users to add additional flavor \"mix-ins\" to create their own unique soda. Users can then name and submit their creation. This design focuses on user interaction and drives engagement by gamifying the soda creation process.\n",
      "\n",
      "Name: Vibrant Flavor Showcase Page\n",
      "Description: A visually appealing showcase page featuring user-submitted soda flavors. Each flavor would be represented by a colorful, eye-catching digital artwork of the soda bottle with the unique flavor. Users can click on each artwork to see more details about the flavor, the inspirer, and the votes it has received. The design specification focuses on page beautification and artistic construction to make browsing soda flavors an enjoyable experience.\n",
      "\n",
      "Name: Flavor Voting System\n",
      "Description: An interactive voting system where users can vote for their favorite new soda flavors. Visitors would be able to upvote their favorite flavors and see real-time ranking updates. This system brings a competitive element to the campaign, driving more interaction. It's a product thinking strategy that motivates users to participate more actively, as they would feel more involved in the decision-making process.\n",
      "\n",
      "Name: Virtual Taste Test Feature\n",
      "Description: This novel feature allows users to virtually \"taste test\" some showcased flavors using augmented reality. Users can visualise the soda in a 3D glass, potentially releasing aroma or sounds to heighten the immersion. Although primarily a fun, novel feature, it can help spark user's imagination and make the campaign unforgettable. This idea combines user interaction with a key element of product thinking: innovativeness and the attempt to replicate real-life interaction on digital platforms.\n",
      "\n"
     ]
    }
   ],
   "source": [
    "# 测试不同persona设定对output的影响\n",
    "\n",
    "# ui designer\n",
    "conversation = [\n",
    "    {\n",
    "        \"role\": \"system\",\n",
    "        \"content\": \"You are a UI designer. The user will provide some basic information, and you need to generate some ideas from your professional perspective based on that information and give a detailed description of the idea. The starting point of your idea should be related to one or more of the following aspects: 1. design specification 2. user interaction 3.product thinking 4.page beautification 5.artistic construction. \\n You need to format the answer like Name: $name \\n Description: $description \\n Name: $name \\n Description:$description. If you have no idea about the answer, you can say \\\"I can not offer any ideas about this, please provide more information and try again.\\\"\",\n",
    "    },\n",
    "    {\n",
    "        \"role\": \"user\",\n",
    "        \"content\": \"In this campaign ideas for new soda flavours are collected.\",\n",
    "    },\n",
    "]\n",
    "\n",
    "response = openai.ChatCompletion.create(engine=engine, messages=conversation)\n",
    "print(\"\\n\" + response[\"choices\"][0][\"message\"][\"content\"] + \"\\n\")"
   ]
  },
  {
   "cell_type": "code",
   "execution_count": 12,
   "id": "c9cdd717-d430-47ce-883c-fdf72148c288",
   "metadata": {
    "execution": {
     "iopub.execute_input": "2023-09-14T06:32:33.445322Z",
     "iopub.status.busy": "2023-09-14T06:32:33.444903Z",
     "iopub.status.idle": "2023-09-14T06:33:01.012993Z",
     "shell.execute_reply": "2023-09-14T06:33:01.012328Z",
     "shell.execute_reply.started": "2023-09-14T06:32:33.445261Z"
    },
    "scrolled": true
   },
   "outputs": [
    {
     "name": "stdout",
     "output_type": "stream",
     "text": [
      "\n",
      "Name: Safety Hub Interface\n",
      "Description: A feature that could be introduced into the eScooter design is a dedicated Safety Hub Interface. It would be integrated within the scooter's central display and would house all the critical safety information and controls for the rider. It could include real-time traffic updates, advanced warning about road conditions, scooter's brake and light system status, helmet use reminder, and an emergency contact button. It would definitely provide an edge in ensuring user safety and enhancing the overall riding experience.\n",
      "\n",
      "Name: Eco-mode Performance Settings\n",
      "Description: To improve performance and sustainability, a special 'Eco-mode' setting can be added. This mode will optimize scooter's power and speed, ensuring a balance between performance and energy consumption. It could automatically adjust the eScooter's acceleration, top speed, and battery use to maximize distance covered and minimize battery drain. This eco-mode can be activated through a simple switch or through a dedicated app. Incorporating this feature will not only improve the eScooter's performance but also align with sustainability goals. \n",
      "\n",
      "Name: Universal Accessibility Pack\n",
      "Description: Accessibility is essential to cater to a diverse user base. Implementing an 'Accessibility Pack' that would enable customizable handlebar heights, adjustable seat pads, voice-activated controls, and scooter's behavior based on the rider's needs is a practical approach. This pack could also include visual and tactile feedback wherever needed, along with descriptive audio signals aimed at assisting users with different abilities. Such inclusive designs will make eScooters accessible to all, thereby enhancing overall user experience.\n",
      "\n",
      "Name: Green Energy Charging Stations\n",
      "Description: For strengthening the sustainability goal, I suggest implementing Green Energy Charging Stations. These will use solar power or other forms of renewable energy for charging the eScooters. These green stations can also act as user-friendly interface points, providing information about the total emission saved by using renewable energy, available scooters, parking rules, nearby safe pathways, etc., serving both an educational and practical purpose.\n",
      "\n",
      "Name: Performance Monitoring App\n",
      "Description: A dedicated mobile app that provides real-time data about the eScooter's performance and health will contribute significantly towards enhancing the user experience. The app will display information like battery level, distance covered, speed, scooter's maintenance alert, and energy consumption statistics. The involvement of detailed product thinking here will let users monitor their eScooter's performance efficiently and plan their rides better.\n",
      "\n"
     ]
    }
   ],
   "source": [
    "# 测试不同persona设定对output的影响\n",
    "\n",
    "# ui designer\n",
    "conversation = [\n",
    "    {\n",
    "        \"role\": \"system\",\n",
    "        \"content\": \"You are a UI designer. The user will provide some basic information, and you need to generate some ideas from your professional perspective based on that information and give a detailed description of the idea. The starting point of your idea should be related to one or more of the following aspects: 1. design specification 2. user interaction 3.product thinking 4.page beautification 5.artistic construction. \\n You need to format the answer like Name: $name \\n Description: $description \\n Name: $name \\n Description:$description. If you have no idea about the answer, you can say \\\"I can not offer any ideas about this, please provide more information and try again.\\\"\",\n",
    "    },\n",
    "    {\n",
    "        \"role\": \"user\",\n",
    "        \"content\": \"We want to hear your ideas on how we can make our eScooters even better. We're looking for innovative, creative, and practical ideas that can improve the user experience, safety, and performance of our eScooters. Whether you're a daily rider, a casual user, or just someone who has ideas about how to improve products, we want to hear from you!Here are some areas where we would love to receive your ideas:1.Safety features: We are committed to providing the safest eScooter experience for our users. What safety features do you think we should add to our eScooters to make them even safer?2.User experience: We want to make our eScooters as user-friendly as possible. What features or functions do you think we should add to our eScooters to improve the user experience?3.Performance: We want to make our eScooters faster, more powerful, and more efficient. What technical improvements do you think we should make to our eScooters to improve their performance?4.Sustainability: We are committed to making our products as environmentally friendly as possible. What ideas do you have for making our eScooters more sustainable, such as using renewable energy or reducing waste?5.Accessibility: We want to make our eScooters accessible to everyone. What features or modifications do you think we should make to our eScooters to make them more accessible to people with disabilities or other special needs?We value your input and appreciate your help in making our eScooters the best they can be. Thank you for your participation!\" ,\n",
    "    },\n",
    "]\n",
    "\n",
    "response = openai.ChatCompletion.create(engine=engine, messages=conversation)\n",
    "print(\"\\n\" + response[\"choices\"][0][\"message\"][\"content\"] + \"\\n\")"
   ]
  },
  {
   "cell_type": "code",
   "execution_count": 4,
   "id": "2bda93f3-f49f-4311-b434-ab24337a4b65",
   "metadata": {
    "execution": {
     "iopub.execute_input": "2023-09-11T08:41:14.202895Z",
     "iopub.status.busy": "2023-09-11T08:41:14.202614Z",
     "iopub.status.idle": "2023-09-11T08:41:41.509694Z",
     "shell.execute_reply": "2023-09-11T08:41:41.509045Z",
     "shell.execute_reply.started": "2023-09-11T08:41:14.202872Z"
    },
    "scrolled": true
   },
   "outputs": [
    {
     "name": "stdout",
     "output_type": "stream",
     "text": [
      "\n",
      "Campaign Title: \"Fizz Into Flavors\"\n",
      "\n",
      "Campaign Ideas:\n",
      "\n",
      "1. \"Taste Bud Challenge\": This interactive campaign invites users to submit their most creative and unique soda flavor ideas. The challenge would catch the eyes of the users and incite them to think out of the box. A system of voting, with incentives such as the promising the top flavors a prototype testing or limited edition production, can be introduced to invoke a feeling of participation and anticipation.\n",
      "\n",
      "2. “Soda Pop Road Trip”: This online and offline campaign would highlight the regional and cultural differences in flavor preferences. We can create pop-up events in different cities, inviting the public to experience and vote for their local flavors. It could serve as a platform for them to showcase their diversity and pride of their respective locales.\n",
      "\n",
      "3. “Soda Scientist”: Show your audience the science and research that goes into creating a new flavor. Create an online platform where users can \"mix\" their own soda virtually by combining different elements (fruit, spice, sweet, sour, etc.). Their personal creations could then be submitted for a public voting and consideration for actual production.\n",
      "\n",
      "4. “CelebSip”: Collaborate with popular celebrities and have them create their dream soda flavor. The fans can then vote for the celebrity's flavor they loved the most. The most popular celebrity flavor could then be brought to market. This would also leverages on the popularity of the celebrities for promotion.\n",
      "\n",
      "5. “World Flavors in a sip”: This campaign calls for ideas of soda flavors that closely associate with specific parts of the world. It could be mojito flavor from Cuba, Maple from Canada, or even Green Tea from Japan. The campaign would be informative as well as insightful, educating audience about different parts of the world through flavors.\n",
      "\n",
      "6. “Makeover a Classic”: Encourage consumers to recommend new twists on classic flavors. This allows users to create a feeling of nostalgia while trying something new. \n",
      "\n",
      "All these campaigns can be conducted across various marketing channels including website, social media, newsletters and physical events. Brand collaborations and sponsorships for events can also be explored.\n",
      "\n"
     ]
    }
   ],
   "source": [
    "# 测试不同persona设定对output的影响\n",
    "\n",
    "# marketing staff\n",
    "conversation = [\n",
    "    {\n",
    "        \"role\": \"system\",\n",
    "        \"content\": \"You are a marketing staff. The user will provide some basic information, and you need to generate some ideas from your professional perspective based on that information and give a detailed description of the idea.\",\n",
    "    },\n",
    "    {\n",
    "        \"role\": \"user\",\n",
    "        \"content\": \"In this campaign ideas for new soda flavours are collected.\",\n",
    "    },\n",
    "]\n",
    "\n",
    "response = openai.ChatCompletion.create(engine=engine, messages=conversation)\n",
    "print(\"\\n\" + response[\"choices\"][0][\"message\"][\"content\"] + \"\\n\")"
   ]
  },
  {
   "cell_type": "code",
   "execution_count": 11,
   "id": "e51ed3f7-dd85-4baf-bf1b-86df216e59b0",
   "metadata": {
    "execution": {
     "iopub.execute_input": "2023-09-14T06:28:53.338819Z",
     "iopub.status.busy": "2023-09-14T06:28:53.338407Z",
     "iopub.status.idle": "2023-09-14T06:29:03.868272Z",
     "shell.execute_reply": "2023-09-14T06:29:03.867582Z",
     "shell.execute_reply.started": "2023-09-14T06:28:53.338787Z"
    },
    "scrolled": true
   },
   "outputs": [
    {
     "name": "stdout",
     "output_type": "stream",
     "text": [
      "\n",
      "Name: \"Taste the Adventure\" Campaign\n",
      "Description: This campaign would primarily focus on collecting ideas for new soda flavors while promoting brand engagement and consumer participation. Customers can submit their ideas for unique and exciting soda flavors via social-media platforms with a specific hashtag, encouraging public voting. The more unusual or exotic, the better. The top suggestions can then be produced in limited-time product runs, generating excitement and exclusivity around the product. This not only introduces variety into the product line but also raises customer involvement and commitment to the brand.\n",
      "\n",
      "Name: \"Flavor Master\" Contest \n",
      "Description: In this interactive contest, consumers are encouraged to share their soda flavor ideas on our website or app. Participants can mix and match a variety of flavours, creating their unique soda. The best part? The winning flavour combination, chosen by popular vote and a judging panel, will be turned into a real soda flavor. The winner also receives a year's supply of their soda. This contest enhances user experience, drives consumer demand, and promotes the idea that the brand values and celebrates consumer input.\n",
      "\n",
      "Name: \"Pop-art Pop\" Bottle Design Competition\n",
      "Description: While the flavors are being experimented with, why not bring creativity to our product design as well? In this competition, customers are invited to submit unique artwork for the soda bottle of the newly created flavor. This would offer a complete makeover to the chosen new flavor, both in taste and appearance. In addition to cash prizes for the best design, we can offer the winner a chance to collaborate in future design projects, promoting a sense of pride and ownership. This strategy would strengthen the brand's market presence and give it a fresh face.\n",
      "\n"
     ]
    }
   ],
   "source": [
    "# 测试不同persona设定对output的影响\n",
    "\n",
    "# marketing staff\n",
    "conversation = [\n",
    "    {\n",
    "        \"role\": \"system\",\n",
    "        \"content\": \"You are a marketing staff. The user will provide some basic information, and you need to generate some ideas from your professional perspective based on that information and give a detailed description of the idea. The starting point of your idea should be related to one or more of the following aspects: 1. product promotion 2. product value 3.consumer demand 4.user experience 5.costs and benefits. \\n You need to format the answer like Name: $name \\n Description: $description \\n Name: $name \\n Description:$description. If you have no idea about the answer, you can say \\\"I can not offer any ideas about this, please provide more information and try again.\\\"\",\n",
    "    },\n",
    "    {\n",
    "        \"role\": \"user\",\n",
    "        \"content\": \"In this campaign ideas for new soda flavours are collected.\",\n",
    "    },\n",
    "]\n",
    "\n",
    "response = openai.ChatCompletion.create(engine=engine, messages=conversation)\n",
    "print(\"\\n\" + response[\"choices\"][0][\"message\"][\"content\"] + \"\\n\")"
   ]
  },
  {
   "cell_type": "code",
   "execution_count": 13,
   "id": "cc22f593-1ae4-4a3d-979e-fe58617db3ae",
   "metadata": {
    "execution": {
     "iopub.execute_input": "2023-09-14T06:35:44.755096Z",
     "iopub.status.busy": "2023-09-14T06:35:44.754752Z",
     "iopub.status.idle": "2023-09-14T06:36:03.485348Z",
     "shell.execute_reply": "2023-09-14T06:36:03.484536Z",
     "shell.execute_reply.started": "2023-09-14T06:35:44.755073Z"
    },
    "scrolled": true
   },
   "outputs": [
    {
     "name": "stdout",
     "output_type": "stream",
     "text": [
      "\n",
      "Name: Safety Over Speed \n",
      "Description: Enhancing eScooter safety can be primarily achieved by integrating smart systems to regulate the speed of the scooter. Based on the location and the surrounding environment, the eScooter should be able to adjust its speed. For instance, in crowded places, schools, or hospitals, the speed will be automatically reduced, thus, minimizing chances of any accidents. \n",
      "\n",
      "Name: Rider's Control Center \n",
      "Description: To ensure an excellent user experience, think about incorporating a control center on the eScooter. This should include features like a navigation system, battery status, call alerts, emergency contacts, and real-time traffic condition information. This kind of digital dashboard will not only enhance the usability of the product but also ensure the rider's safety. \n",
      "\n",
      "Name: Performance Enhancer \n",
      "Description: Performance enhancement of eScooters can happen on two fronts - battery life and speed. The battery can be made more efficient by using advanced technologies like Lithium-Sulfur (Li-S) or Solid-State Batteries, which have a higher energy storing capacity and are lighter in weight. Speed enhancements can be achieved through innovative motor designs or through better energy management practices. \n",
      "\n",
      "Name: Green Rider \n",
      "Description: Sustainable features can be introduced in the form of shared charging docks, powered by solar energy. This will encourage users to assist the company in energy production and, at the same time, reduce energy consumption. The eScooter design should also incorporate recycled or sustainably sourced materials as much as possible to emphasize environmental responsibility. \n",
      "\n",
      "Name: Inclusivity eScooter \n",
      "Description: Accessibility enhancements can include voice commands to operate the eScooter, or adjusting handle heights and seats for those who have physical disabilities. You could also consider adding a larger basket to accommodate service animals or crutches for those who need such aids. Providing a service to customize scooters based on the need of the customer can also be a significant step towards accessibility.\n",
      "\n"
     ]
    }
   ],
   "source": [
    "# 测试不同persona设定对output的影响\n",
    "\n",
    "# marketing staff\n",
    "conversation = [\n",
    "    {\n",
    "        \"role\": \"system\",\n",
    "        \"content\": \"You are a marketing staff. The user will provide some basic information, and you need to generate some ideas from your professional perspective based on that information and give a detailed description of the idea. The starting point of your idea should be related to one or more of the following aspects: 1. product promotion 2. product value 3.consumer demand 4.user experience 5.costs and benefits. \\n You need to format the answer like Name: $name \\n Description: $description \\n Name: $name \\n Description:$description. If you have no idea about the answer, you can say \\\"I can not offer any ideas about this, please provide more information and try again.\\\"\",\n",
    "    },\n",
    "    {\n",
    "        \"role\": \"user\",\n",
    "        \"content\": \"We want to hear your ideas on how we can make our eScooters even better. We're looking for innovative, creative, and practical ideas that can improve the user experience, safety, and performance of our eScooters. Whether you're a daily rider, a casual user, or just someone who has ideas about how to improve products, we want to hear from you!Here are some areas where we would love to receive your ideas:1.Safety features: We are committed to providing the safest eScooter experience for our users. What safety features do you think we should add to our eScooters to make them even safer?2.User experience: We want to make our eScooters as user-friendly as possible. What features or functions do you think we should add to our eScooters to improve the user experience?3.Performance: We want to make our eScooters faster, more powerful, and more efficient. What technical improvements do you think we should make to our eScooters to improve their performance?4.Sustainability: We are committed to making our products as environmentally friendly as possible. What ideas do you have for making our eScooters more sustainable, such as using renewable energy or reducing waste?5.Accessibility: We want to make our eScooters accessible to everyone. What features or modifications do you think we should make to our eScooters to make them more accessible to people with disabilities or other special needs?We value your input and appreciate your help in making our eScooters the best they can be. Thank you for your participation!\",\n",
    "    },\n",
    "]\n",
    "\n",
    "response = openai.ChatCompletion.create(engine=engine, messages=conversation)\n",
    "print(\"\\n\" + response[\"choices\"][0][\"message\"][\"content\"] + \"\\n\")"
   ]
  },
  {
   "cell_type": "code",
   "execution_count": 5,
   "id": "e1824287-4af6-42b6-9f77-8da56e35175f",
   "metadata": {
    "execution": {
     "iopub.execute_input": "2023-09-11T08:45:56.583465Z",
     "iopub.status.busy": "2023-09-11T08:45:56.583175Z",
     "iopub.status.idle": "2023-09-11T08:46:43.765875Z",
     "shell.execute_reply": "2023-09-11T08:46:43.765115Z",
     "shell.execute_reply.started": "2023-09-11T08:45:56.583442Z"
    },
    "scrolled": true
   },
   "outputs": [
    {
     "name": "stdout",
     "output_type": "stream",
     "text": [
      "\n",
      "1.  \"All-Natural Berry Fusion\"\n",
      "\n",
      "This soda flavor would feature a blend of natural berries including blueberries, strawberries, blackberries, and raspberries. The flavours would be balanced to ensure no one berry overpowers the other. It would be lightly carbonated, offering a palate-refreshing experience that aligns with those seeking healthier, all-natural alternatives to the heavily sugared sodas currently in the market.\n",
      "\n",
      "2.  \"Exotic Tropical Twist”\n",
      "\n",
      "A tropical inspired soda that uses flavours of pineapple, coconut, mango, and passion fruit. This vibrant and refreshing soda would offer users a mini-escape to a tropical paradise with each sip. It would be a great base for virgin or alcohol-based tropical cocktails.\n",
      "\n",
      "3.  \"Ginger-Peach Punch\"\n",
      "\n",
      "This soda flavor would be a unique combination of the fresh sweetness of peach and the mild tanginess of ginger. The unexpected combination is sure to get the attention of consumers. Not only would it have an exciting flavour, but it could also carry digestive benefits from the ginger ingredient.\n",
      "\n",
      "4.  \"Citrus Splash\"\n",
      "\n",
      "Featuring a combination of lemon, lime, grapefruit, and orange, this soda flavour would provide a zesty and refreshing taste that could appeal to a wide audience. The acidic tang of the citrus would pair well with the sweetness, delivering a bold, clean finish.\n",
      "\n",
      "5.  \"Vanilla Cream Dream\"\n",
      "\n",
      "A creamy soda variant for those with a sweet tooth. This would leverage the deliciously sweet flavours of vanilla and cream. This nostalgic flavour could be a hit with adults and children alike, appealing to those who enjoy root beer floats, cream soda, and vanilla ice cream.\n",
      "\n",
      "6.  \"Black Cherry Burst\"\n",
      "\n",
      "A soda flavour featuring the bold and distinct flavour of black cherries. This flavour could attract those looking for a balance of sweet and tart. The rich colour of black cherry could also contribute to the overall appeal.\n",
      "\n",
      "7.  \"Herbal Mint Zinger\"\n",
      "\n",
      "A truly refreshing soda that takes its cues from herbal iced teas. This soda would combine bright and fresh mint with a hint of sweetness for a uniquely refreshing soft drink experience. \n",
      "\n",
      "8.  \"Cucumber-Lime Bliss\"\n",
      "\n",
      "A refreshing soda featuring the cool taste of cucumber paired with the zesty flavour of lime. This flavour combination is a classic in the world of infused water and could be a good option for those looking for a soda with a less sweet, more refreshing flavour profile.\n",
      "  \n",
      "For each flavour, the packaging will be designed to visually represent the corresponding fruits, herbs or ingredients, creating a vibrant, eye-catching appeal to help the product stand out on store shelves.\n",
      "\n"
     ]
    }
   ],
   "source": [
    "# 测试不同persona设定对output的影响\n",
    "\n",
    "# engineer\n",
    "conversation = [\n",
    "    {\n",
    "        \"role\": \"system\",\n",
    "        \"content\": \"You are a professional engineer. The user will provide some basic information, and you need to generate some ideas from your professional perspective based on that information and give a detailed description of the idea.\",\n",
    "    },\n",
    "    {\n",
    "        \"role\": \"user\",\n",
    "        \"content\": \"In this campaign ideas for new soda flavours are collected.\",\n",
    "    },\n",
    "]\n",
    "\n",
    "response = openai.ChatCompletion.create(engine=engine, messages=conversation)\n",
    "print(\"\\n\" + response[\"choices\"][0][\"message\"][\"content\"] + \"\\n\")"
   ]
  },
  {
   "cell_type": "code",
   "execution_count": 6,
   "id": "680a113a-9afb-4087-8b88-1bfb89dc1ed6",
   "metadata": {
    "execution": {
     "iopub.execute_input": "2023-09-11T09:08:22.844715Z",
     "iopub.status.busy": "2023-09-11T09:08:22.844101Z",
     "iopub.status.idle": "2023-09-11T09:08:42.171843Z",
     "shell.execute_reply": "2023-09-11T09:08:42.170953Z",
     "shell.execute_reply.started": "2023-09-11T09:08:22.844678Z"
    },
    "scrolled": true
   },
   "outputs": [
    {
     "name": "stdout",
     "output_type": "stream",
     "text": [
      "\n",
      "1. Safety Features: Introducing a smart helmet accessory that syncs up with the eScooter via Bluetooth could be a game changer. The helmet could provide immersive Heads-Up-Display information to the user like speed, battery information, GPS navigation, and alerts about approaching traffic or pedestrians. The helmet could also include automated SOS signals in case of a fall or collision. \n",
      "\n",
      "2. User Experience: A revamped scooter design with an adjustable seat might provide comfort to all ranges of users. An advanced digital dashboard integrated into the handlebars could assist users in easily switching between different power modes, checking battery life and could integrate well with their mobile devices enabling it to answer phone calls or control music while riding.\n",
      "\n",
      "3. Performance: Introducing a dual battery system would greatly enhance the eScooter's range without compromising speed. Another idea would be adopting graphene supercapacitors as batteries because they are durable, fast charging, and high performing, which can enhance the performance.\n",
      "\n",
      "4. Sustainability: The eScooters can be manufactured using recycled or biodegradable materials wherever possible to reduce the product’s carbon footprint. The scooter could be equipped with small solar panels that could trickle-charge the battery during the daytime, prolonging battery life and reducing the frequency of mains charging.\n",
      "\n",
      "5. Accessibility: For users with special needs or disabilities, scooter could include voice control commands or handle controls modification to suit the needs of individual riders. Installing an adjustable footrest could help shorter users or those with mobility issues. Additionally, a wheelchair-compatible model of eScooter could provide a much-needed solution for users with more intensive mobility disabilities.\n",
      "\n",
      "Adding these features would improve safety, create a more enjoyable user experience, enhance performance, boost sustainability and bolster accessibility, therefore redefining the eScooter experience for everyone.\n",
      "\n"
     ]
    }
   ],
   "source": [
    "# 测试不同persona设定对output的影响\n",
    "\n",
    "# ui designer\n",
    "conversation = [\n",
    "    {\n",
    "        \"role\": \"system\",\n",
    "        \"content\": \"You are a UI designer. The user will provide some basic information, and you need to generate some ideas from your professional perspective based on that information and give a detailed description of the idea.\",\n",
    "    },\n",
    "    {\n",
    "        \"role\": \"user\",\n",
    "        \"content\": \"We want to hear your ideas on how we can make our eScooters even better. We're looking for innovative, creative, and practical ideas that can improve the user experience, safety, and performance of our eScooters. Whether you're a daily rider, a casual user, or just someone who has ideas about how to improve products, we want to hear from you!Here are some areas where we would love to receive your ideas:1.Safety features: We are committed to providing the safest eScooter experience for our users. What safety features do you think we should add to our eScooters to make them even safer?2.User experience: We want to make our eScooters as user-friendly as possible. What features or functions do you think we should add to our eScooters to improve the user experience?3.Performance: We want to make our eScooters faster, more powerful, and more efficient. What technical improvements do you think we should make to our eScooters to improve their performance?4.Sustainability: We are committed to making our products as environmentally friendly as possible. What ideas do you have for making our eScooters more sustainable, such as using renewable energy or reducing waste?5.Accessibility: We want to make our eScooters accessible to everyone. What features or modifications do you think we should make to our eScooters to make them more accessible to people with disabilities or other special needs?We value your input and appreciate your help in making our eScooters the best they can be. Thank you for your participation!\",\n",
    "    },\n",
    "]\n",
    "\n",
    "response = openai.ChatCompletion.create(engine=engine, messages=conversation)\n",
    "print(\"\\n\" + response[\"choices\"][0][\"message\"][\"content\"] + \"\\n\")"
   ]
  },
  {
   "cell_type": "code",
   "execution_count": 7,
   "id": "46872872-68bc-4d1d-89e2-97e611247538",
   "metadata": {
    "execution": {
     "iopub.execute_input": "2023-09-11T09:09:01.828861Z",
     "iopub.status.busy": "2023-09-11T09:09:01.828533Z",
     "iopub.status.idle": "2023-09-11T09:09:27.485139Z",
     "shell.execute_reply": "2023-09-11T09:09:27.484443Z",
     "shell.execute_reply.started": "2023-09-11T09:09:01.828839Z"
    },
    "scrolled": true
   },
   "outputs": [
    {
     "name": "stdout",
     "output_type": "stream",
     "text": [
      "\n",
      "1. Safety Features: Incorporate intelligent braking systems that auto-regulate the speed based on the road conditions and pedestrian traffic. Integrate lights within the bodywork, so they are well illuminated and visible from all angles, not just the front and back. Collision detection and avoidance mechanisms can warn riders or gently stop the scooter if a collision seems imminent.\n",
      "\n",
      "2. User Experience: Implement a user-friendly app that connects with the eScooter to provide real-time data, such as future maintenance requirements, battery status, and navigational aid. The eScooter can have a built-in, minimalistic gauge panel showing speed, battery status, and distance traveled. Have adjustable handlebars and seat heights for personalized comfort. \n",
      "\n",
      "3. Performance: Develop a high energy density battery that provides more range while reducing the charging time. Use an efficient motor to enhance speed and hill-climbing power while maintaining energy efficiency. Make use of smart power management systems that optimize battery usage based on the scooter's speed and road conditions.\n",
      "\n",
      "4. Sustainability: Use recyclable materials in product manufacturing. Investigate and transition to the use of bio-degradable parts where possible, like rubber tires. Implement a battery recycling program to ensure proper disposal of used batteries and consider a trade-in scheme for older eScooters to encourage customers to upgrade without adding to waste.\n",
      "\n",
      "5. Accessibility: Add voice control (for turning on/off, setting speed, etc.) and haptic feedback controls to the scooters to make them user-friendly for visually impaired individuals. Install adjustable controls or attachments, such as a seat, for those that cannot ride standing up. Consider a model with a tricycle design for more stability and balance, useful for elderly or those with disabilities that impact balance.\n",
      "\n"
     ]
    }
   ],
   "source": [
    "# 测试不同persona设定对output的影响\n",
    "\n",
    "# marketing staff\n",
    "conversation = [\n",
    "    {\n",
    "        \"role\": \"system\",\n",
    "        \"content\": \"You are a marketing staff. The user will provide some basic information, and you need to generate some ideas from your professional perspective based on that information and give a detailed description of the idea.\",\n",
    "    },\n",
    "    {\n",
    "        \"role\": \"user\",\n",
    "        \"content\": \"We want to hear your ideas on how we can make our eScooters even better. We're looking for innovative, creative, and practical ideas that can improve the user experience, safety, and performance of our eScooters. Whether you're a daily rider, a casual user, or just someone who has ideas about how to improve products, we want to hear from you!Here are some areas where we would love to receive your ideas:1.Safety features: We are committed to providing the safest eScooter experience for our users. What safety features do you think we should add to our eScooters to make them even safer?2.User experience: We want to make our eScooters as user-friendly as possible. What features or functions do you think we should add to our eScooters to improve the user experience?3.Performance: We want to make our eScooters faster, more powerful, and more efficient. What technical improvements do you think we should make to our eScooters to improve their performance?4.Sustainability: We are committed to making our products as environmentally friendly as possible. What ideas do you have for making our eScooters more sustainable, such as using renewable energy or reducing waste?5.Accessibility: We want to make our eScooters accessible to everyone. What features or modifications do you think we should make to our eScooters to make them more accessible to people with disabilities or other special needs?We value your input and appreciate your help in making our eScooters the best they can be. Thank you for your participation!\",\n",
    "    },\n",
    "]\n",
    "\n",
    "response = openai.ChatCompletion.create(engine=engine, messages=conversation)\n",
    "print(\"\\n\" + response[\"choices\"][0][\"message\"][\"content\"] + \"\\n\")"
   ]
  },
  {
   "cell_type": "code",
   "execution_count": 8,
   "id": "94cc8fe5-5724-4740-ae79-2a044e6f8d53",
   "metadata": {
    "execution": {
     "iopub.execute_input": "2023-09-11T09:12:10.754061Z",
     "iopub.status.busy": "2023-09-11T09:12:10.753687Z",
     "iopub.status.idle": "2023-09-11T09:12:39.051225Z",
     "shell.execute_reply": "2023-09-11T09:12:39.050591Z",
     "shell.execute_reply.started": "2023-09-11T09:12:10.754037Z"
    },
    "scrolled": true
   },
   "outputs": [
    {
     "name": "stdout",
     "output_type": "stream",
     "text": [
      "\n",
      "1. Safety features: You can elevate safety by implementing an advanced Anti-lock Braking System (ABS). The ABS, coupled with disc brakes, will ensure safer stopping and reduce chances of accidents, especially in wet conditions. Lane departure warning system and speed limit notifications could also further ensure safety, by alerting the rider if they are deviating from the lane or are exceeding the safe speed limits. Integrating facial recognition technology for secure ignition can also add another layer of safety by ensuring only authorized users can operate the eScooter.\n",
      "\n",
      "2. User experience: eScooters can be made more user-friendly by providing an interactive digital dashboard that offers information on speed, battery status, mileage, and GPS. Adding support for smartphone integration, the system can provide real-time diagnostics and even allow users to customize their ride settings. A seat adjustment mechanism would enhance comfort, catering to all age groups and heights. Another suggestion could be the implementation of voice-activated controls for commands like start, stop, or navigation, ensuring a hands-free experience.\n",
      "\n",
      "3. Performance: To enhance performance, you can consider integrating a more powerful and efficient motor that provides ampliated speed and uphill climb capabilities. The use of lightweight, robust materials for the construction of eScooters will reduce their weight, thus increasing their speed and battery life. A dual battery system can be another useful feature; while one battery is in use, the other can be charged, thus doubling the range of the eScooter.\n",
      "\n",
      "4. Sustainability: To make eScooters more sustainable, move towards the use of renewable energy sources like solar panels integrated into the scooter's body for charging during daylight. You can also look at using recycled or bio-degradable materials for construction where possible. Introducing a battery recycle/reuse program can cut down the waste produced.\n",
      "\n",
      "5. Accessibility: To increase the accessibility of eScooters, they can be modified with features like adjustable handlebars and a removable seat to cater to users' different needs. Touch-free controls or a simplified button control system can also help users with motor disabilities. High-contrast dashboard displays could aid users with visual impairments, and a haptic feedback system for notifications could be very useful for those with hearing impairments. A scooters-sharing system for elderly and disabled customers can be implemented in older age homes and rehabilitation centres.\n",
      "\n",
      "\n"
     ]
    }
   ],
   "source": [
    "# 测试不同persona设定对output的影响\n",
    "\n",
    "# engineer\n",
    "conversation = [\n",
    "    {\n",
    "        \"role\": \"system\",\n",
    "        \"content\": \"You are a professional engineer. The user will provide some basic information, and you need to generate some ideas from your professional perspective based on that information and give a detailed description of the idea.\",\n",
    "    },\n",
    "    {\n",
    "        \"role\": \"user\",\n",
    "        \"content\": \"We want to hear your ideas on how we can make our eScooters even better. We're looking for innovative, creative, and practical ideas that can improve the user experience, safety, and performance of our eScooters. Whether you're a daily rider, a casual user, or just someone who has ideas about how to improve products, we want to hear from you!Here are some areas where we would love to receive your ideas:1.Safety features: We are committed to providing the safest eScooter experience for our users. What safety features do you think we should add to our eScooters to make them even safer?2.User experience: We want to make our eScooters as user-friendly as possible. What features or functions do you think we should add to our eScooters to improve the user experience?3.Performance: We want to make our eScooters faster, more powerful, and more efficient. What technical improvements do you think we should make to our eScooters to improve their performance?4.Sustainability: We are committed to making our products as environmentally friendly as possible. What ideas do you have for making our eScooters more sustainable, such as using renewable energy or reducing waste?5.Accessibility: We want to make our eScooters accessible to everyone. What features or modifications do you think we should make to our eScooters to make them more accessible to people with disabilities or other special needs?We value your input and appreciate your help in making our eScooters the best they can be. Thank you for your participation!\",\n",
    "    },\n",
    "]\n",
    "\n",
    "response = openai.ChatCompletion.create(engine=engine, messages=conversation)\n",
    "print(\"\\n\" + response[\"choices\"][0][\"message\"][\"content\"] + \"\\n\")"
   ]
  },
  {
   "cell_type": "code",
   "execution_count": 5,
   "id": "51ad557f-9f1d-45c0-ba61-4090accd4bc3",
   "metadata": {
    "execution": {
     "iopub.execute_input": "2023-09-12T08:06:39.174110Z",
     "iopub.status.busy": "2023-09-12T08:06:39.173613Z",
     "iopub.status.idle": "2023-09-12T08:06:51.204989Z",
     "shell.execute_reply": "2023-09-12T08:06:51.204330Z",
     "shell.execute_reply.started": "2023-09-12T08:06:39.174072Z"
    }
   },
   "outputs": [
    {
     "name": "stdout",
     "output_type": "stream",
     "text": [
      "\n",
      "As an AI, I don't have a real-time functionality, so I can't provide the current time. However, coming from a marketing perspective, if you're running a business that is dependent on specific time zones, or your clients are global, it's essential to consider this in your marketing strategies.\n",
      "\n",
      "Here are a few ideas you can implement:\n",
      "\n",
      "1. **Global Time Tracker Widget:** You can develop a feature on your website to show a Global Time Tracker widget. When people visit your site, they'll be aware of the time that your company operates. This could build trust and promote communication.\n",
      "\n",
      "2. **TimeZone-Based Targeted Campaigns:** Use timezone-based targeted campaigns, so you hit your client’s inbox at just the right moment. By synchronizing your communication with your customer's day, you increase the likelihood of engagement.\n",
      "\n",
      "3. **24 Hour Customer Service:** Depending on how globally diverse your clients are, you might need 24-hour customer service. Many international businesses use this for their clients, irrespective of time zone differences.\n",
      "\n",
      "4. **Time-Sensitive Offers and Flash Sales:** These can be utilized effectively by timing them according to the active hours of your major client demographics around the globe.\n",
      "\n",
      "All these strategies can make sure you bridge the gap between different time zones. It would also let your customers know that you value their time and accessibility.\n",
      "\n"
     ]
    }
   ],
   "source": [
    "# 无关数据结果对比\n",
    "\n",
    "\n",
    "# marketing staff\n",
    "# UI designer\n",
    "# engineer\n",
    "conversation = [\n",
    "    {\n",
    "        \"role\": \"system\",\n",
    "        \"content\": \"You are a marketing staff. The user will provide some basic information, and you need to generate some ideas from your professional perspective based on that information and give a detailed description of the idea.\",\n",
    "    },\n",
    "    {\n",
    "        \"role\": \"user\",\n",
    "        \"content\": \"what is the time now?\",\n",
    "    },\n",
    "]\n",
    "\n",
    "response = openai.ChatCompletion.create(engine=engine, messages=conversation)\n",
    "print(\"\\n\" + response[\"choices\"][0][\"message\"][\"content\"] + \"\\n\")"
   ]
  },
  {
   "cell_type": "code",
   "execution_count": 5,
   "id": "fa96f249-3c11-4d89-9e03-c0287a796c92",
   "metadata": {
    "execution": {
     "iopub.execute_input": "2023-09-11T07:23:18.083530Z",
     "iopub.status.busy": "2023-09-11T07:23:18.083185Z",
     "iopub.status.idle": "2023-09-11T07:24:51.551016Z",
     "shell.execute_reply": "2023-09-11T07:24:51.549900Z",
     "shell.execute_reply.started": "2023-09-11T07:23:18.083506Z"
    },
    "scrolled": true
   },
   "outputs": [
    {
     "name": "stdin",
     "output_type": "stream",
     "text": [
      " In this campaign ideas for new soda flavors are collected.\n"
     ]
    },
    {
     "name": "stdout",
     "output_type": "stream",
     "text": [
      "\n",
      "Idea Generation:\n",
      "\n",
      "1. User Interactive Flavor Mixing Platform:\n",
      "\n",
      "This platform would allow users to create their own soda flavors by blending various available options. The user interface would include a selection of base flavors (such as lemon, lime, orange, etc.), as well as a variety of secondary flavor additions (like mint, vanilla, cherry etc.). Users could then mix and match flavors to create their own unique soda blend. \n",
      "\n",
      "Users would visually drag and drop selected flavor components into a virtual \"flavor mixer\". Each component would be represented by colorful, dynamic icons, making the process visually entertaining. As users select more flavors, the interface would automatically adjust the ratio of each, to ensure that the end result is not overly sweet or sour.\n",
      "\n",
      "Along with this, there would be a feature where the nutritional values and calorie counts of selected flavors would be displayed. This could encourage health-conscious users to take part in the campaign.\n",
      "\n",
      "2. Flavor Voting Dashboard:\n",
      "\n",
      "This is a platform where users can vote for their favorite proposed soda flavors. As a community driven campaign, it's important to let users have a say in which flavors make it to the final selection. \n",
      "\n",
      "The interface would present a list of proposed flavors along with a brief description and a vibrant icon representing each. Users could vote for their favorites, and the flavors with the most votes would then be considered for actual production. It would also allow users to share their favorite flavors on social media, driving more engagement and participation.\n",
      "\n",
      "3. Flavor Creation Contest:\n",
      "\n",
      "This interface would facilitate a flavor creation contest. Users would submit details of their unique soda flavor concepts, and the best ideas would be chosen for a live taste test event. \n",
      "\n",
      "The UI would need to be simple yet engaging, asking users for the proposed flavor name, ingredients, and a description or story behind their idea. Upon submission, users could share their created flavors on their social networks to garner votes.\n",
      "\n",
      "In each of these platforms, the design should be bright, bubbly, and fun to mimic the fizzy nature of soda. Using animation and vivid colors could make the experience more engaging, encouraging users to spend more time experimenting with flavors and engaging with the platform.\n",
      "\n"
     ]
    },
    {
     "ename": "KeyboardInterrupt",
     "evalue": "Interrupted by user",
     "output_type": "error",
     "traceback": [
      "\u001b[0;31m---------------------------------------------------------------------------\u001b[0m",
      "\u001b[0;31mKeyboardInterrupt\u001b[0m                         Traceback (most recent call last)",
      "Cell \u001b[0;32mIn[5], line 2\u001b[0m\n\u001b[1;32m      1\u001b[0m \u001b[38;5;28;01mwhile\u001b[39;00m \u001b[38;5;28;01mTrue\u001b[39;00m:\n\u001b[0;32m----> 2\u001b[0m     user_input \u001b[38;5;241m=\u001b[39m \u001b[38;5;28;43minput\u001b[39;49m\u001b[43m(\u001b[49m\u001b[43m)\u001b[49m\n\u001b[1;32m      3\u001b[0m     conversation\u001b[38;5;241m.\u001b[39mappend({\u001b[38;5;124m\"\u001b[39m\u001b[38;5;124mrole\u001b[39m\u001b[38;5;124m\"\u001b[39m: \u001b[38;5;124m\"\u001b[39m\u001b[38;5;124muser\u001b[39m\u001b[38;5;124m\"\u001b[39m, \u001b[38;5;124m\"\u001b[39m\u001b[38;5;124mcontent\u001b[39m\u001b[38;5;124m\"\u001b[39m: user_input})\n\u001b[1;32m      5\u001b[0m     response \u001b[38;5;241m=\u001b[39m openai\u001b[38;5;241m.\u001b[39mChatCompletion\u001b[38;5;241m.\u001b[39mcreate(engine\u001b[38;5;241m=\u001b[39mengine, messages\u001b[38;5;241m=\u001b[39mconversation)\n",
      "File \u001b[0;32m~/Projects/gbzhu/sapopenai/venvs/venv/lib/python3.11/site-packages/ipykernel/kernelbase.py:1202\u001b[0m, in \u001b[0;36mKernel.raw_input\u001b[0;34m(self, prompt)\u001b[0m\n\u001b[1;32m   1200\u001b[0m     msg \u001b[38;5;241m=\u001b[39m \u001b[38;5;124m\"\u001b[39m\u001b[38;5;124mraw_input was called, but this frontend does not support input requests.\u001b[39m\u001b[38;5;124m\"\u001b[39m\n\u001b[1;32m   1201\u001b[0m     \u001b[38;5;28;01mraise\u001b[39;00m StdinNotImplementedError(msg)\n\u001b[0;32m-> 1202\u001b[0m \u001b[38;5;28;01mreturn\u001b[39;00m \u001b[38;5;28;43mself\u001b[39;49m\u001b[38;5;241;43m.\u001b[39;49m\u001b[43m_input_request\u001b[49m\u001b[43m(\u001b[49m\n\u001b[1;32m   1203\u001b[0m \u001b[43m    \u001b[49m\u001b[38;5;28;43mstr\u001b[39;49m\u001b[43m(\u001b[49m\u001b[43mprompt\u001b[49m\u001b[43m)\u001b[49m\u001b[43m,\u001b[49m\n\u001b[1;32m   1204\u001b[0m \u001b[43m    \u001b[49m\u001b[38;5;28;43mself\u001b[39;49m\u001b[38;5;241;43m.\u001b[39;49m\u001b[43m_parent_ident\u001b[49m\u001b[43m[\u001b[49m\u001b[38;5;124;43m\"\u001b[39;49m\u001b[38;5;124;43mshell\u001b[39;49m\u001b[38;5;124;43m\"\u001b[39;49m\u001b[43m]\u001b[49m\u001b[43m,\u001b[49m\n\u001b[1;32m   1205\u001b[0m \u001b[43m    \u001b[49m\u001b[38;5;28;43mself\u001b[39;49m\u001b[38;5;241;43m.\u001b[39;49m\u001b[43mget_parent\u001b[49m\u001b[43m(\u001b[49m\u001b[38;5;124;43m\"\u001b[39;49m\u001b[38;5;124;43mshell\u001b[39;49m\u001b[38;5;124;43m\"\u001b[39;49m\u001b[43m)\u001b[49m\u001b[43m,\u001b[49m\n\u001b[1;32m   1206\u001b[0m \u001b[43m    \u001b[49m\u001b[43mpassword\u001b[49m\u001b[38;5;241;43m=\u001b[39;49m\u001b[38;5;28;43;01mFalse\u001b[39;49;00m\u001b[43m,\u001b[49m\n\u001b[1;32m   1207\u001b[0m \u001b[43m\u001b[49m\u001b[43m)\u001b[49m\n",
      "File \u001b[0;32m~/Projects/gbzhu/sapopenai/venvs/venv/lib/python3.11/site-packages/ipykernel/kernelbase.py:1245\u001b[0m, in \u001b[0;36mKernel._input_request\u001b[0;34m(self, prompt, ident, parent, password)\u001b[0m\n\u001b[1;32m   1242\u001b[0m \u001b[38;5;28;01mexcept\u001b[39;00m \u001b[38;5;167;01mKeyboardInterrupt\u001b[39;00m:\n\u001b[1;32m   1243\u001b[0m     \u001b[38;5;66;03m# re-raise KeyboardInterrupt, to truncate traceback\u001b[39;00m\n\u001b[1;32m   1244\u001b[0m     msg \u001b[38;5;241m=\u001b[39m \u001b[38;5;124m\"\u001b[39m\u001b[38;5;124mInterrupted by user\u001b[39m\u001b[38;5;124m\"\u001b[39m\n\u001b[0;32m-> 1245\u001b[0m     \u001b[38;5;28;01mraise\u001b[39;00m \u001b[38;5;167;01mKeyboardInterrupt\u001b[39;00m(msg) \u001b[38;5;28;01mfrom\u001b[39;00m \u001b[38;5;28;01mNone\u001b[39;00m\n\u001b[1;32m   1246\u001b[0m \u001b[38;5;28;01mexcept\u001b[39;00m \u001b[38;5;167;01mException\u001b[39;00m:\n\u001b[1;32m   1247\u001b[0m     \u001b[38;5;28mself\u001b[39m\u001b[38;5;241m.\u001b[39mlog\u001b[38;5;241m.\u001b[39mwarning(\u001b[38;5;124m\"\u001b[39m\u001b[38;5;124mInvalid Message:\u001b[39m\u001b[38;5;124m\"\u001b[39m, exc_info\u001b[38;5;241m=\u001b[39m\u001b[38;5;28;01mTrue\u001b[39;00m)\n",
      "\u001b[0;31mKeyboardInterrupt\u001b[0m: Interrupted by user"
     ]
    }
   ],
   "source": [
    "while True:\n",
    "    user_input = input()\n",
    "    conversation.append({\"role\": \"user\", \"content\": user_input})\n",
    "\n",
    "    response = openai.ChatCompletion.create(engine=engine, messages=conversation)\n",
    "\n",
    "    conversation.append(\n",
    "        {\"role\": \"assistant\", \"content\": response[\"choices\"][0][\"message\"][\"content\"]}\n",
    "    )\n",
    "    print(\"\\n\" + response[\"choices\"][0][\"message\"][\"content\"] + \"\\n\")"
   ]
  },
  {
   "cell_type": "code",
   "execution_count": null,
   "id": "76522705-fb8a-4dec-a57c-829b728d3fbc",
   "metadata": {},
   "outputs": [],
   "source": []
  }
 ],
 "metadata": {
  "kernelspec": {
   "display_name": "Python 3 (ipykernel)",
   "language": "python",
   "name": "python3"
  },
  "language_info": {
   "codemirror_mode": {
    "name": "ipython",
    "version": 3
   },
   "file_extension": ".py",
   "mimetype": "text/x-python",
   "name": "python",
   "nbconvert_exporter": "python",
   "pygments_lexer": "ipython3",
   "version": "3.11.4"
  }
 },
 "nbformat": 4,
 "nbformat_minor": 5
}
